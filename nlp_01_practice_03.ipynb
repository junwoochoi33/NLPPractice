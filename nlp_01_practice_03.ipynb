{
  "nbformat": 4,
  "nbformat_minor": 0,
  "metadata": {
    "colab": {
      "provenance": [],
      "authorship_tag": "ABX9TyNgpSHX1ql/1oQV/FuH1Row",
      "include_colab_link": true
    },
    "kernelspec": {
      "name": "python3",
      "display_name": "Python 3"
    },
    "language_info": {
      "name": "python"
    }
  },
  "cells": [
    {
      "cell_type": "markdown",
      "metadata": {
        "id": "view-in-github",
        "colab_type": "text"
      },
      "source": [
        "<a href=\"https://colab.research.google.com/github/junwoochoi33/NLPPractice/blob/main/nlp_01_practice_03.ipynb\" target=\"_parent\"><img src=\"https://colab.research.google.com/assets/colab-badge.svg\" alt=\"Open In Colab\"/></a>"
      ]
    },
    {
      "cell_type": "markdown",
      "source": [
        "## 1. 몬티홀 문제"
      ],
      "metadata": {
        "id": "3EfE_FD0uwJn"
      }
    },
    {
      "cell_type": "code",
      "execution_count": 1,
      "metadata": {
        "id": "nMLMDW6UNOfb"
      },
      "outputs": [],
      "source": [
        "import random"
      ]
    },
    {
      "cell_type": "code",
      "source": [
        "import random\n",
        "\n",
        "# 문 수와 시도 횟수 설정\n",
        "doors = [0, 1, 2]\n",
        "trials = 10000\n",
        "change_wins = 0\n",
        "no_change_wins = 0\n",
        "\n",
        "for _ in range(trials):\n",
        "    # 자동차가 숨겨진 문\n",
        "    car = random.choice(doors)\n",
        "\n",
        "    # 참가자가 처음 고른 문\n",
        "    player_choice = random.choice(doors)\n",
        "\n",
        "    # 사회자가 열 문: 플레이어가 고르지 않았고, 자동차도 없는 문 중 하나\n",
        "    available_doors = [d for d in doors if d != player_choice and d != car]\n",
        "    host_opens = random.choice(available_doors)\n",
        "\n",
        "    # 바꾸는 전략: 남은 문으로 바꿔봄\n",
        "    remaining_doors = [d for d in doors if d != player_choice and d != host_opens]\n",
        "    switched_choice = remaining_doors[0]\n",
        "\n",
        "    if switched_choice == car:\n",
        "        change_wins += 1\n",
        "\n",
        "    # 바꾸지 않는 전략\n",
        "    if player_choice == car:\n",
        "        no_change_wins += 1\n",
        "\n",
        "# 결과 출력\n",
        "print(f\"✅ 바꾸면 이길 확률: {change_wins / trials:.2f}\")\n",
        "print(f\"❌ 안 바꾸면 이길 확률: {no_change_wins / trials:.2f}\")\n"
      ],
      "metadata": {
        "colab": {
          "base_uri": "https://localhost:8080/"
        },
        "id": "amVNzncswv_k",
        "outputId": "b52eeef2-dd5a-4a97-f88b-c090b6a5ae73"
      },
      "execution_count": 8,
      "outputs": [
        {
          "output_type": "stream",
          "name": "stdout",
          "text": [
            "✅ 바꾸면 이길 확률: 0.67\n",
            "❌ 안 바꾸면 이길 확률: 0.33\n"
          ]
        }
      ]
    }
  ]
}
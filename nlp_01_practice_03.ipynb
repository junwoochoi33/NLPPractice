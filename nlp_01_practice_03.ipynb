{
  "nbformat": 4,
  "nbformat_minor": 0,
  "metadata": {
    "colab": {
      "provenance": [],
      "authorship_tag": "ABX9TyNYPmJ8MY1AJExAusohej+G",
      "include_colab_link": true
    },
    "kernelspec": {
      "name": "python3",
      "display_name": "Python 3"
    },
    "language_info": {
      "name": "python"
    }
  },
  "cells": [
    {
      "cell_type": "markdown",
      "metadata": {
        "id": "view-in-github",
        "colab_type": "text"
      },
      "source": [
        "<a href=\"https://colab.research.google.com/github/junwoochoi33/NLPPractice/blob/main/nlp_01_practice_03.ipynb\" target=\"_parent\"><img src=\"https://colab.research.google.com/assets/colab-badge.svg\" alt=\"Open In Colab\"/></a>"
      ]
    },
    {
      "cell_type": "markdown",
      "source": [
        "## 1. 몬티홀 문제"
      ],
      "metadata": {
        "id": "3EfE_FD0uwJn"
      }
    },
    {
      "cell_type": "code",
      "execution_count": 1,
      "metadata": {
        "id": "nMLMDW6UNOfb"
      },
      "outputs": [],
      "source": [
        "import random"
      ]
    },
    {
      "cell_type": "code",
      "source": [
        "import random\n",
        "\n",
        "# 문 수와 시도 횟수 설정\n",
        "doors = [0, 1, 2]\n",
        "trials = 10000\n",
        "change_wins = 0\n",
        "no_change_wins = 0\n",
        "\n",
        "for _ in range(trials):\n",
        "    # 자동차가 숨겨진 문\n",
        "    car = random.choice(doors)\n",
        "\n",
        "    # 참가자가 처음 고른 문\n",
        "    player_choice = random.choice(doors)\n",
        "\n",
        "    # 사회자가 열 문: 플레이어가 고르지 않았고, 자동차도 없는 문 중 하나\n",
        "    available_doors = [d for d in doors if d != player_choice and d != car]\n",
        "    host_opens = random.choice(available_doors)\n",
        "\n",
        "    # 바꾸는 전략: 남은 문으로 바꿔봄\n",
        "    remaining_doors = [d for d in doors if d != player_choice and d != host_opens]\n",
        "    switched_choice = remaining_doors[0]\n",
        "\n",
        "    if switched_choice == car:\n",
        "        change_wins += 1\n",
        "\n",
        "    # 바꾸지 않는 전략\n",
        "    if player_choice == car:\n",
        "        no_change_wins += 1\n",
        "\n",
        "# 결과 출력\n",
        "print(f\"✅ 바꾸면 이길 확률: {change_wins / trials:.2f}\")\n",
        "print(f\"❌ 안 바꾸면 이길 확률: {no_change_wins / trials:.2f}\")\n"
      ],
      "metadata": {
        "colab": {
          "base_uri": "https://localhost:8080/"
        },
        "id": "amVNzncswv_k",
        "outputId": "b52eeef2-dd5a-4a97-f88b-c090b6a5ae73"
      },
      "execution_count": 8,
      "outputs": [
        {
          "output_type": "stream",
          "name": "stdout",
          "text": [
            "✅ 바꾸면 이길 확률: 0.67\n",
            "❌ 안 바꾸면 이길 확률: 0.33\n"
          ]
        }
      ]
    },
    {
      "cell_type": "markdown",
      "source": [
        "## 2. 코사인 유사도"
      ],
      "metadata": {
        "id": "PeIgCIKG09w1"
      }
    },
    {
      "cell_type": "code",
      "source": [
        "doc_list = [\n",
        "    \"if you take the blue pill, the story ends\",\n",
        "    \"if you take the red pill, you stay in Wonderland\",\n",
        "    \"if you take the red pill, I show you how deep the rabbit hole goes\"\n",
        "]"
      ],
      "metadata": {
        "id": "BlyCMUNu1ety"
      },
      "execution_count": 9,
      "outputs": []
    },
    {
      "cell_type": "code",
      "source": [
        "import numpy as np\n",
        "from numpy import dot\n",
        "from numpy.linalg import norm"
      ],
      "metadata": {
        "id": "p6Je3iY31qLM"
      },
      "execution_count": 10,
      "outputs": []
    },
    {
      "cell_type": "code",
      "source": [
        "def cos_similarity(A,B):\n",
        "  return dot(A, B) / (norm(A) * norm(B))"
      ],
      "metadata": {
        "id": "pKGO4LVd1xqP"
      },
      "execution_count": 11,
      "outputs": []
    },
    {
      "cell_type": "code",
      "source": [
        "from sklearn.feature_extraction.text import TfidfVectorizer"
      ],
      "metadata": {
        "id": "chuXWRB114Rn"
      },
      "execution_count": 12,
      "outputs": []
    },
    {
      "cell_type": "code",
      "source": [
        "tfidf = TfidfVectorizer()\n",
        "doc_tfidf = tfidf.fit_transform(doc_list)\n",
        "\n",
        "print(doc_tfidf.shape)\n",
        "print(type(doc_tfidf))\n",
        "print(doc_tfidf)"
      ],
      "metadata": {
        "colab": {
          "base_uri": "https://localhost:8080/"
        },
        "id": "OLZDDoET1_bh",
        "outputId": "132edbe6-899f-45c4-f87d-6b8c65ceaa5a"
      },
      "execution_count": 23,
      "outputs": [
        {
          "output_type": "stream",
          "name": "stdout",
          "text": [
            "(3, 18)\n",
            "<class 'scipy.sparse._csr.csr_matrix'>\n",
            "<Compressed Sparse Row sparse matrix of dtype 'float64'\n",
            "\twith 29 stored elements and shape (3, 18)>\n",
            "  Coords\tValues\n",
            "  (0, 6)\t0.24543855687841593\n",
            "  (0, 17)\t0.24543855687841593\n",
            "  (0, 14)\t0.24543855687841593\n",
            "  (0, 15)\t0.49087711375683185\n",
            "  (0, 0)\t0.41556360057939173\n",
            "  (0, 8)\t0.24543855687841593\n",
            "  (0, 13)\t0.41556360057939173\n",
            "  (0, 2)\t0.41556360057939173\n",
            "  (1, 6)\t0.2340286519091622\n",
            "  (1, 17)\t0.4680573038183244\n",
            "  (1, 14)\t0.2340286519091622\n",
            "  (1, 15)\t0.2340286519091622\n",
            "  (1, 8)\t0.2340286519091622\n",
            "  (1, 10)\t0.3013544995034864\n",
            "  (1, 12)\t0.39624495215024286\n",
            "  (1, 7)\t0.39624495215024286\n",
            "  (1, 16)\t0.39624495215024286\n",
            "  (2, 6)\t0.18300595060934663\n",
            "  (2, 17)\t0.36601190121869326\n",
            "  (2, 14)\t0.18300595060934663\n",
            "  (2, 15)\t0.36601190121869326\n",
            "  (2, 8)\t0.18300595060934663\n",
            "  (2, 10)\t0.23565348175165168\n",
            "  (2, 11)\t0.30985600929990786\n",
            "  (2, 5)\t0.30985600929990786\n",
            "  (2, 1)\t0.30985600929990786\n",
            "  (2, 9)\t0.30985600929990786\n",
            "  (2, 4)\t0.30985600929990786\n",
            "  (2, 3)\t0.30985600929990786\n"
          ]
        }
      ]
    },
    {
      "cell_type": "code",
      "source": [
        "dense_tfidf = doc_tfidf.todense()"
      ],
      "metadata": {
        "id": "LhpQH9Bb2J7d"
      },
      "execution_count": 14,
      "outputs": []
    },
    {
      "cell_type": "code",
      "source": [
        "vec1 = np.array(dense_tfidf[0]).reshape(-1,)\n",
        "vec2 = np.array(dense_tfidf[1]).reshape(-1,)\n",
        "vec3 = np.array(dense_tfidf[2]).reshape(-1,)"
      ],
      "metadata": {
        "id": "WSs87gwS2TmL"
      },
      "execution_count": 19,
      "outputs": []
    },
    {
      "cell_type": "code",
      "source": [
        "print(cos_similarity(vec1, vec2))"
      ],
      "metadata": {
        "colab": {
          "base_uri": "https://localhost:8080/"
        },
        "id": "cYmQBtKj2emv",
        "outputId": "d50c7d88-9829-4658-b919-1d01afb0aac3"
      },
      "execution_count": 20,
      "outputs": [
        {
          "output_type": "stream",
          "name": "stdout",
          "text": [
            "0.40207758214950134\n"
          ]
        }
      ]
    },
    {
      "cell_type": "code",
      "source": [
        "print(cos_similarity(vec1, vec3))"
      ],
      "metadata": {
        "colab": {
          "base_uri": "https://localhost:8080/"
        },
        "id": "eJM_mtiE2ipJ",
        "outputId": "5a52bbba-093a-4307-bb79-7cf2101ab43e"
      },
      "execution_count": 21,
      "outputs": [
        {
          "output_type": "stream",
          "name": "stdout",
          "text": [
            "0.40425044775948626\n"
          ]
        }
      ]
    },
    {
      "cell_type": "code",
      "source": [
        "print(cos_similarity(vec2, vec3))"
      ],
      "metadata": {
        "colab": {
          "base_uri": "https://localhost:8080/"
        },
        "id": "g4kmzJvY2s0b",
        "outputId": "d881b80a-b5b9-4509-de39-e56356127048"
      },
      "execution_count": 22,
      "outputs": [
        {
          "output_type": "stream",
          "name": "stdout",
          "text": [
            "0.45647296026166395\n"
          ]
        }
      ]
    }
  ]
}
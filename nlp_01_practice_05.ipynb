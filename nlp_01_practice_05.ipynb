{
  "nbformat": 4,
  "nbformat_minor": 0,
  "metadata": {
    "colab": {
      "provenance": [],
      "authorship_tag": "ABX9TyNImaTIdz04GX4meQh3NRcF",
      "include_colab_link": true
    },
    "kernelspec": {
      "name": "python3",
      "display_name": "Python 3"
    },
    "language_info": {
      "name": "python"
    }
  },
  "cells": [
    {
      "cell_type": "markdown",
      "metadata": {
        "id": "view-in-github",
        "colab_type": "text"
      },
      "source": [
        "<a href=\"https://colab.research.google.com/github/junwoochoi33/NLPPractice/blob/main/nlp_01_practice_05.ipynb\" target=\"_parent\"><img src=\"https://colab.research.google.com/assets/colab-badge.svg\" alt=\"Open In Colab\"/></a>"
      ]
    },
    {
      "cell_type": "markdown",
      "source": [
        "## 1. 임베딩"
      ],
      "metadata": {
        "id": "SI5ppTrQwt_l"
      }
    },
    {
      "cell_type": "code",
      "execution_count": 4,
      "metadata": {
        "id": "z09Uc5dUwsLz"
      },
      "outputs": [],
      "source": [
        "import tensorflow as tf\n",
        "from tensorflow.keras.layers import Embedding, Flatten, Input, Dense\n",
        "from tensorflow.keras.utils import to_categorical\n",
        "from tensorflow.keras.preprocessing.text import one_hot\n",
        "from tensorflow.keras.preprocessing.sequence import pad_sequences\n",
        "import numpy as np"
      ]
    },
    {
      "cell_type": "code",
      "source": [
        "docs = [\n",
        "    \"안 녕!\",\n",
        "    \"잘했어!\",\n",
        "    \"잘 자, 오늘 고생했어\",\n",
        "    \"일 잘하는데?\",\n",
        "    \"훌륭해!\",\n",
        "    \"약해\",\n",
        "    \"노력 좀 해!\",\n",
        "    \"별로다\",\n",
        "    \"일을 너무 못 해\",\n",
        "    \"잘할 수 있었잖아.\"\n",
        "]\n",
        "\n",
        "labels = np.array([1,1,1,1,1,0,0,0,0,0])"
      ],
      "metadata": {
        "id": "l3viCv1DxBi3"
      },
      "execution_count": 5,
      "outputs": []
    },
    {
      "cell_type": "code",
      "source": [
        "encoded_docs = [one_hot(doc, 50) for doc in docs]\n",
        "print(encoded_docs)"
      ],
      "metadata": {
        "colab": {
          "base_uri": "https://localhost:8080/"
        },
        "id": "JXL4cNDKxyAg",
        "outputId": "d472b29f-414c-4bb8-e84a-d8cf51feeb14"
      },
      "execution_count": 8,
      "outputs": [
        {
          "output_type": "stream",
          "name": "stdout",
          "text": [
            "[[18, 7], [42], [20, 22, 34, 17], [26, 33], [49], [9], [14, 32, 23], [23], [23, 44, 28, 23], [36, 21, 17]]\n"
          ]
        }
      ]
    },
    {
      "cell_type": "code",
      "source": [],
      "metadata": {
        "id": "_SWF5Tv9yFYI"
      },
      "execution_count": null,
      "outputs": []
    }
  ]
}
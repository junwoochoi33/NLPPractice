{
  "nbformat": 4,
  "nbformat_minor": 0,
  "metadata": {
    "colab": {
      "provenance": [],
      "authorship_tag": "ABX9TyPW9R6gWYbRElYpmZePM/Q4",
      "include_colab_link": true
    },
    "kernelspec": {
      "name": "python3",
      "display_name": "Python 3"
    },
    "language_info": {
      "name": "python"
    }
  },
  "cells": [
    {
      "cell_type": "markdown",
      "metadata": {
        "id": "view-in-github",
        "colab_type": "text"
      },
      "source": [
        "<a href=\"https://colab.research.google.com/github/junwoochoi33/NLPPractice/blob/main/nlp_01_practice_02.ipynb\" target=\"_parent\"><img src=\"https://colab.research.google.com/assets/colab-badge.svg\" alt=\"Open In Colab\"/></a>"
      ]
    },
    {
      "cell_type": "markdown",
      "source": [
        "## 1. 정수 인코딩"
      ],
      "metadata": {
        "id": "LV9T7o9qxwVA"
      }
    },
    {
      "cell_type": "code",
      "execution_count": 12,
      "metadata": {
        "id": "iREFmlBext3K"
      },
      "outputs": [],
      "source": [
        "text = \"\"\"\n",
        "Artificial intelligence (AI) is transforming the modern world across various industries.\n",
        "From autonomous vehicles and virtual assistants to fraud detection systems and medical diagnostics, AI is being integrated into everyday technologies.\n",
        "At its core, AI involves machines that can perform tasks typically requiring human intelligence, such as learning, reasoning, and decision-making.\n",
        "Recent advances in deep learning, a subfield of machine learning, have enabled significant improvements in image recognition, natural language processing, and robotics.\n",
        "As AI systems continue to evolve, questions surrounding ethics, bias, and transparency are becoming increasingly important for researchers and developers.\n",
        "\"\"\""
      ]
    },
    {
      "cell_type": "code",
      "source": [
        "text"
      ],
      "metadata": {
        "colab": {
          "base_uri": "https://localhost:8080/",
          "height": 72
        },
        "id": "gKAAeILiyWJv",
        "outputId": "6e33523c-ce49-40a0-f078-52f8a7e04d6c"
      },
      "execution_count": 13,
      "outputs": [
        {
          "output_type": "execute_result",
          "data": {
            "text/plain": [
              "'\\nArtificial intelligence (AI) is transforming the modern world across various industries. \\nFrom autonomous vehicles and virtual assistants to fraud detection systems and medical diagnostics, AI is being integrated into everyday technologies. \\nAt its core, AI involves machines that can perform tasks typically requiring human intelligence, such as learning, reasoning, and decision-making. \\nRecent advances in deep learning, a subfield of machine learning, have enabled significant improvements in image recognition, natural language processing, and robotics. \\nAs AI systems continue to evolve, questions surrounding ethics, bias, and transparency are becoming increasingly important for researchers and developers.\\n'"
            ],
            "application/vnd.google.colaboratory.intrinsic+json": {
              "type": "string"
            }
          },
          "metadata": {},
          "execution_count": 13
        }
      ]
    },
    {
      "cell_type": "code",
      "source": [
        "from nltk.tokenize import sent_tokenize"
      ],
      "metadata": {
        "id": "E26Os6IHybrH"
      },
      "execution_count": 14,
      "outputs": []
    },
    {
      "cell_type": "code",
      "source": [
        "import nltk\n",
        "nltk.download('punkt_tab')\n",
        "\n",
        "sent_text = sent_tokenize(text)\n",
        "sent_text"
      ],
      "metadata": {
        "colab": {
          "base_uri": "https://localhost:8080/"
        },
        "id": "pOmym9vAyfZn",
        "outputId": "6d702ab2-d999-489d-99ca-2f8556740b94"
      },
      "execution_count": 15,
      "outputs": [
        {
          "output_type": "stream",
          "name": "stderr",
          "text": [
            "[nltk_data] Downloading package punkt_tab to /root/nltk_data...\n",
            "[nltk_data]   Package punkt_tab is already up-to-date!\n"
          ]
        },
        {
          "output_type": "execute_result",
          "data": {
            "text/plain": [
              "['\\nArtificial intelligence (AI) is transforming the modern world across various industries.',\n",
              " 'From autonomous vehicles and virtual assistants to fraud detection systems and medical diagnostics, AI is being integrated into everyday technologies.',\n",
              " 'At its core, AI involves machines that can perform tasks typically requiring human intelligence, such as learning, reasoning, and decision-making.',\n",
              " 'Recent advances in deep learning, a subfield of machine learning, have enabled significant improvements in image recognition, natural language processing, and robotics.',\n",
              " 'As AI systems continue to evolve, questions surrounding ethics, bias, and transparency are becoming increasingly important for researchers and developers.']"
            ]
          },
          "metadata": {},
          "execution_count": 15
        }
      ]
    },
    {
      "cell_type": "code",
      "source": [
        "from nltk.tokenize import word_tokenize\n",
        "from nltk.corpus import stopwords\n",
        "import nltk\n",
        "nltk.download('stopwords')"
      ],
      "metadata": {
        "colab": {
          "base_uri": "https://localhost:8080/"
        },
        "id": "Ohtl5Qx09MhP",
        "outputId": "27281da2-dcf5-4c06-f544-674087203665"
      },
      "execution_count": 18,
      "outputs": [
        {
          "output_type": "stream",
          "name": "stderr",
          "text": [
            "[nltk_data] Downloading package stopwords to /root/nltk_data...\n",
            "[nltk_data]   Unzipping corpora/stopwords.zip.\n"
          ]
        },
        {
          "output_type": "execute_result",
          "data": {
            "text/plain": [
              "True"
            ]
          },
          "metadata": {},
          "execution_count": 18
        }
      ]
    },
    {
      "cell_type": "code",
      "source": [
        "vocabulary = {}\n",
        "sentences = []\n",
        "stop_words = stopwords.words('english')\n",
        "\n",
        "for sent in sent_text:\n",
        "  sentence = word_tokenize(sent)\n",
        "  result = []\n",
        "\n",
        "  for word in sentence:\n",
        "    word = word.lower()\n",
        "    if (word not in stop_words) and (len(word) > 2):\n",
        "      result.append(word)\n",
        "      if word not in vocabulary:\n",
        "        vocabulary[word] = 0\n",
        "      vocabulary[word] += 1\n",
        "\n",
        "  sentences.append(result)"
      ],
      "metadata": {
        "id": "7dAXX2Og9WE-"
      },
      "execution_count": 23,
      "outputs": []
    },
    {
      "cell_type": "code",
      "source": [
        "print(sentences)"
      ],
      "metadata": {
        "colab": {
          "base_uri": "https://localhost:8080/"
        },
        "id": "P8eURgmGBvH1",
        "outputId": "aef48b64-c8e3-4109-ede1-004f0f9077cb"
      },
      "execution_count": 24,
      "outputs": [
        {
          "output_type": "stream",
          "name": "stdout",
          "text": [
            "[['artificial', 'intelligence', 'transforming', 'modern', 'world', 'across', 'various', 'industries'], ['autonomous', 'vehicles', 'virtual', 'assistants', 'fraud', 'detection', 'systems', 'medical', 'diagnostics', 'integrated', 'everyday', 'technologies'], ['core', 'involves', 'machines', 'perform', 'tasks', 'typically', 'requiring', 'human', 'intelligence', 'learning', 'reasoning', 'decision-making'], ['recent', 'advances', 'deep', 'learning', 'subfield', 'machine', 'learning', 'enabled', 'significant', 'improvements', 'image', 'recognition', 'natural', 'language', 'processing', 'robotics'], ['systems', 'continue', 'evolve', 'questions', 'surrounding', 'ethics', 'bias', 'transparency', 'becoming', 'increasingly', 'important', 'researchers', 'developers']]\n"
          ]
        }
      ]
    },
    {
      "cell_type": "code",
      "source": [
        "print(vocabulary)"
      ],
      "metadata": {
        "colab": {
          "base_uri": "https://localhost:8080/"
        },
        "id": "TgvxttCPByMM",
        "outputId": "4dae62a4-41db-4a05-b2fb-da7458fb3af1"
      },
      "execution_count": 26,
      "outputs": [
        {
          "output_type": "stream",
          "name": "stdout",
          "text": [
            "{'artificial': 1, 'intelligence': 2, 'transforming': 1, 'modern': 1, 'world': 1, 'across': 1, 'various': 1, 'industries': 1, 'autonomous': 1, 'vehicles': 1, 'virtual': 1, 'assistants': 1, 'fraud': 1, 'detection': 1, 'systems': 2, 'medical': 1, 'diagnostics': 1, 'integrated': 1, 'everyday': 1, 'technologies': 1, 'core': 1, 'involves': 1, 'machines': 1, 'perform': 1, 'tasks': 1, 'typically': 1, 'requiring': 1, 'human': 1, 'learning': 3, 'reasoning': 1, 'decision-making': 1, 'recent': 1, 'advances': 1, 'deep': 1, 'subfield': 1, 'machine': 1, 'enabled': 1, 'significant': 1, 'improvements': 1, 'image': 1, 'recognition': 1, 'natural': 1, 'language': 1, 'processing': 1, 'robotics': 1, 'continue': 1, 'evolve': 1, 'questions': 1, 'surrounding': 1, 'ethics': 1, 'bias': 1, 'transparency': 1, 'becoming': 1, 'increasingly': 1, 'important': 1, 'researchers': 1, 'developers': 1}\n"
          ]
        }
      ]
    },
    {
      "cell_type": "code",
      "source": [
        "sorted_vocabulary = sorted(vocabulary.items(), key = lambda x:x[1], reverse=True)\n",
        "print(sorted_vocabulary)"
      ],
      "metadata": {
        "colab": {
          "base_uri": "https://localhost:8080/"
        },
        "id": "vLTFBzWxCWWR",
        "outputId": "637cbd6c-780b-4df9-c5a3-39343017faf7"
      },
      "execution_count": 27,
      "outputs": [
        {
          "output_type": "stream",
          "name": "stdout",
          "text": [
            "[('learning', 3), ('intelligence', 2), ('systems', 2), ('artificial', 1), ('transforming', 1), ('modern', 1), ('world', 1), ('across', 1), ('various', 1), ('industries', 1), ('autonomous', 1), ('vehicles', 1), ('virtual', 1), ('assistants', 1), ('fraud', 1), ('detection', 1), ('medical', 1), ('diagnostics', 1), ('integrated', 1), ('everyday', 1), ('technologies', 1), ('core', 1), ('involves', 1), ('machines', 1), ('perform', 1), ('tasks', 1), ('typically', 1), ('requiring', 1), ('human', 1), ('reasoning', 1), ('decision-making', 1), ('recent', 1), ('advances', 1), ('deep', 1), ('subfield', 1), ('machine', 1), ('enabled', 1), ('significant', 1), ('improvements', 1), ('image', 1), ('recognition', 1), ('natural', 1), ('language', 1), ('processing', 1), ('robotics', 1), ('continue', 1), ('evolve', 1), ('questions', 1), ('surrounding', 1), ('ethics', 1), ('bias', 1), ('transparency', 1), ('becoming', 1), ('increasingly', 1), ('important', 1), ('researchers', 1), ('developers', 1)]\n"
          ]
        }
      ]
    },
    {
      "cell_type": "code",
      "source": [
        "integer_embedding = {}\n",
        "i = 0\n",
        "for (word, frequency) in sorted_vocabulary:\n",
        "  if frequency > 1:\n",
        "    i = i + 1\n",
        "    integer_embedding[word] = i"
      ],
      "metadata": {
        "id": "NuPuoBXqCmSD"
      },
      "execution_count": 29,
      "outputs": []
    },
    {
      "cell_type": "code",
      "source": [
        "print(integer_embedding)"
      ],
      "metadata": {
        "colab": {
          "base_uri": "https://localhost:8080/"
        },
        "id": "UtXm2IVwCsG_",
        "outputId": "0ab3b67f-9888-4ade-e812-b59a4159db6d"
      },
      "execution_count": 30,
      "outputs": [
        {
          "output_type": "stream",
          "name": "stdout",
          "text": [
            "{'learning': 1, 'intelligence': 2, 'systems': 3}\n"
          ]
        }
      ]
    },
    {
      "cell_type": "code",
      "source": [
        "# oov: out of vocabulary\n",
        "integer_embedding['oov'] = len(integer_embedding) + 1\n",
        "print(integer_embedding)"
      ],
      "metadata": {
        "colab": {
          "base_uri": "https://localhost:8080/"
        },
        "id": "UI4GhFTRDcBX",
        "outputId": "4578d97b-ec3e-44e6-9752-3be1306d8370"
      },
      "execution_count": 31,
      "outputs": [
        {
          "output_type": "stream",
          "name": "stdout",
          "text": [
            "{'learning': 1, 'intelligence': 2, 'systems': 3, 'oov': 4}\n"
          ]
        }
      ]
    },
    {
      "cell_type": "code",
      "source": [
        "encoded = []\n",
        "for s in sentences:\n",
        "  temp = []\n",
        "  for w in s:\n",
        "    try:\n",
        "      temp.append(integer_embedding[w])\n",
        "    except KeyError:\n",
        "      temp.append(integer_embedding['oov'])\n",
        "  encoded.append(temp)\n",
        "\n",
        "print(encoded)\n"
      ],
      "metadata": {
        "colab": {
          "base_uri": "https://localhost:8080/"
        },
        "id": "BfPQZ76DD8qt",
        "outputId": "432480c5-b28f-456a-a365-818bc105bb02"
      },
      "execution_count": 32,
      "outputs": [
        {
          "output_type": "stream",
          "name": "stdout",
          "text": [
            "[[4, 2, 4, 4, 4, 4, 4, 4], [4, 4, 4, 4, 4, 4, 3, 4, 4, 4, 4, 4], [4, 4, 4, 4, 4, 4, 4, 4, 2, 1, 4, 4], [4, 4, 4, 1, 4, 4, 1, 4, 4, 4, 4, 4, 4, 4, 4, 4], [3, 4, 4, 4, 4, 4, 4, 4, 4, 4, 4, 4, 4]]\n"
          ]
        }
      ]
    },
    {
      "cell_type": "code",
      "source": [
        "import numpy as np\n",
        "from collections import Counter"
      ],
      "metadata": {
        "id": "iM1vF3NwEiBD"
      },
      "execution_count": 34,
      "outputs": []
    },
    {
      "cell_type": "code",
      "source": [
        "print(sentences)"
      ],
      "metadata": {
        "colab": {
          "base_uri": "https://localhost:8080/"
        },
        "id": "JapqCGKwEn_v",
        "outputId": "4fbd2e3f-8fe4-490a-afd7-dbe8ab16ab40"
      },
      "execution_count": 36,
      "outputs": [
        {
          "output_type": "stream",
          "name": "stdout",
          "text": [
            "[['artificial', 'intelligence', 'transforming', 'modern', 'world', 'across', 'various', 'industries'], ['autonomous', 'vehicles', 'virtual', 'assistants', 'fraud', 'detection', 'systems', 'medical', 'diagnostics', 'integrated', 'everyday', 'technologies'], ['core', 'involves', 'machines', 'perform', 'tasks', 'typically', 'requiring', 'human', 'intelligence', 'learning', 'reasoning', 'decision-making'], ['recent', 'advances', 'deep', 'learning', 'subfield', 'machine', 'learning', 'enabled', 'significant', 'improvements', 'image', 'recognition', 'natural', 'language', 'processing', 'robotics'], ['systems', 'continue', 'evolve', 'questions', 'surrounding', 'ethics', 'bias', 'transparency', 'becoming', 'increasingly', 'important', 'researchers', 'developers']]\n"
          ]
        }
      ]
    },
    {
      "cell_type": "code",
      "source": [
        "words = np.hstack(sentences)\n",
        "print(words)"
      ],
      "metadata": {
        "colab": {
          "base_uri": "https://localhost:8080/"
        },
        "id": "UOXW6BCdErro",
        "outputId": "dd420f1e-dae6-4e66-b30b-e07e39d43399"
      },
      "execution_count": 40,
      "outputs": [
        {
          "output_type": "stream",
          "name": "stdout",
          "text": [
            "['artificial' 'intelligence' 'transforming' 'modern' 'world' 'across'\n",
            " 'various' 'industries' 'autonomous' 'vehicles' 'virtual' 'assistants'\n",
            " 'fraud' 'detection' 'systems' 'medical' 'diagnostics' 'integrated'\n",
            " 'everyday' 'technologies' 'core' 'involves' 'machines' 'perform' 'tasks'\n",
            " 'typically' 'requiring' 'human' 'intelligence' 'learning' 'reasoning'\n",
            " 'decision-making' 'recent' 'advances' 'deep' 'learning' 'subfield'\n",
            " 'machine' 'learning' 'enabled' 'significant' 'improvements' 'image'\n",
            " 'recognition' 'natural' 'language' 'processing' 'robotics' 'systems'\n",
            " 'continue' 'evolve' 'questions' 'surrounding' 'ethics' 'bias'\n",
            " 'transparency' 'becoming' 'increasingly' 'important' 'researchers'\n",
            " 'developers']\n"
          ]
        }
      ]
    },
    {
      "cell_type": "code",
      "source": [
        "vocabulary = Counter(words)\n",
        "print(vocabulary)"
      ],
      "metadata": {
        "colab": {
          "base_uri": "https://localhost:8080/"
        },
        "id": "NKKCoFgmEzuq",
        "outputId": "38967446-df36-4b6c-e277-ff98a5ffcf45"
      },
      "execution_count": 42,
      "outputs": [
        {
          "output_type": "stream",
          "name": "stdout",
          "text": [
            "Counter({np.str_('learning'): 3, np.str_('intelligence'): 2, np.str_('systems'): 2, np.str_('artificial'): 1, np.str_('transforming'): 1, np.str_('modern'): 1, np.str_('world'): 1, np.str_('across'): 1, np.str_('various'): 1, np.str_('industries'): 1, np.str_('autonomous'): 1, np.str_('vehicles'): 1, np.str_('virtual'): 1, np.str_('assistants'): 1, np.str_('fraud'): 1, np.str_('detection'): 1, np.str_('medical'): 1, np.str_('diagnostics'): 1, np.str_('integrated'): 1, np.str_('everyday'): 1, np.str_('technologies'): 1, np.str_('core'): 1, np.str_('involves'): 1, np.str_('machines'): 1, np.str_('perform'): 1, np.str_('tasks'): 1, np.str_('typically'): 1, np.str_('requiring'): 1, np.str_('human'): 1, np.str_('reasoning'): 1, np.str_('decision-making'): 1, np.str_('recent'): 1, np.str_('advances'): 1, np.str_('deep'): 1, np.str_('subfield'): 1, np.str_('machine'): 1, np.str_('enabled'): 1, np.str_('significant'): 1, np.str_('improvements'): 1, np.str_('image'): 1, np.str_('recognition'): 1, np.str_('natural'): 1, np.str_('language'): 1, np.str_('processing'): 1, np.str_('robotics'): 1, np.str_('continue'): 1, np.str_('evolve'): 1, np.str_('questions'): 1, np.str_('surrounding'): 1, np.str_('ethics'): 1, np.str_('bias'): 1, np.str_('transparency'): 1, np.str_('becoming'): 1, np.str_('increasingly'): 1, np.str_('important'): 1, np.str_('researchers'): 1, np.str_('developers'): 1})\n"
          ]
        }
      ]
    },
    {
      "cell_type": "code",
      "source": [
        "vocab_size = 2\n",
        "common_vocabulary = vocabulary.most_common(vocab_size)\n",
        "print(common_vocabulary)"
      ],
      "metadata": {
        "colab": {
          "base_uri": "https://localhost:8080/"
        },
        "id": "h90I8V0qE5Ew",
        "outputId": "b47a05cb-c738-48ca-aa78-fc89a2e7bc20"
      },
      "execution_count": 45,
      "outputs": [
        {
          "output_type": "stream",
          "name": "stdout",
          "text": [
            "[(np.str_('learning'), 3), (np.str_('intelligence'), 2)]\n"
          ]
        }
      ]
    },
    {
      "cell_type": "code",
      "source": [
        "integer_embedding = {}\n",
        "i = 0\n",
        "for (word, frequency) in common_vocabulary:\n",
        "    i += 1\n",
        "    integer_embedding[word] = i\n",
        "\n",
        "print(integer_embedding)\n"
      ],
      "metadata": {
        "colab": {
          "base_uri": "https://localhost:8080/"
        },
        "id": "2STOx6agFOgr",
        "outputId": "5cb91723-66ff-4bd1-a128-4c057660a526"
      },
      "execution_count": 48,
      "outputs": [
        {
          "output_type": "stream",
          "name": "stdout",
          "text": [
            "{np.str_('learning'): 1, np.str_('intelligence'): 2}\n"
          ]
        }
      ]
    },
    {
      "cell_type": "code",
      "source": [
        "from nltk import FreqDist"
      ],
      "metadata": {
        "id": "xrHGzk4OFUJU"
      },
      "execution_count": 50,
      "outputs": []
    },
    {
      "cell_type": "code",
      "source": [
        "vocabulary = FreqDist(np.hstack(sentences))\n",
        "print(vocabulary)"
      ],
      "metadata": {
        "colab": {
          "base_uri": "https://localhost:8080/"
        },
        "id": "gEWCVf4MFpJf",
        "outputId": "a33eb8e9-8c5f-4fac-d08d-67a46faa2bcc"
      },
      "execution_count": 52,
      "outputs": [
        {
          "output_type": "stream",
          "name": "stdout",
          "text": [
            "<FreqDist with 57 samples and 61 outcomes>\n"
          ]
        }
      ]
    },
    {
      "cell_type": "code",
      "source": [
        "vocab_size = 2\n",
        "common_vocabulary = vocabulary.most_common(vocab_size)\n",
        "print(common_vocabulary)"
      ],
      "metadata": {
        "colab": {
          "base_uri": "https://localhost:8080/"
        },
        "id": "NwBTWuf_FxF-",
        "outputId": "89e76bbc-c269-4f2a-c971-0c07f5f2799b"
      },
      "execution_count": 53,
      "outputs": [
        {
          "output_type": "stream",
          "name": "stdout",
          "text": [
            "[(np.str_('learning'), 3), (np.str_('intelligence'), 2)]\n"
          ]
        }
      ]
    },
    {
      "cell_type": "code",
      "source": [
        "integer_embedding = {word[0] : index + 1 for index, word in enumerate(common_vocabulary)}\n",
        "print(integer_embedding)"
      ],
      "metadata": {
        "colab": {
          "base_uri": "https://localhost:8080/"
        },
        "id": "PxkfXxU3F7Jv",
        "outputId": "690b5dc8-899e-4919-d59b-221cd462bad4"
      },
      "execution_count": 54,
      "outputs": [
        {
          "output_type": "stream",
          "name": "stdout",
          "text": [
            "{np.str_('learning'): 1, np.str_('intelligence'): 2}\n"
          ]
        }
      ]
    },
    {
      "cell_type": "code",
      "source": [
        "from tensorflow.keras.preprocessing.text import Tokenizer"
      ],
      "metadata": {
        "id": "BgHmVuvxGFY9"
      },
      "execution_count": 55,
      "outputs": []
    },
    {
      "cell_type": "code",
      "source": [
        "tokenizer = Tokenizer()\n",
        "tokenizer.fit_on_texts(sentences)"
      ],
      "metadata": {
        "id": "koZQ-DhOGPY8"
      },
      "execution_count": 56,
      "outputs": []
    },
    {
      "cell_type": "code",
      "source": [
        "tokenizer.word_index"
      ],
      "metadata": {
        "colab": {
          "base_uri": "https://localhost:8080/"
        },
        "id": "StuYqoJ9GU7N",
        "outputId": "efa8c797-1fc8-4e79-99a1-f1150fb8a3e5"
      },
      "execution_count": 57,
      "outputs": [
        {
          "output_type": "execute_result",
          "data": {
            "text/plain": [
              "{'learning': 1,\n",
              " 'intelligence': 2,\n",
              " 'systems': 3,\n",
              " 'artificial': 4,\n",
              " 'transforming': 5,\n",
              " 'modern': 6,\n",
              " 'world': 7,\n",
              " 'across': 8,\n",
              " 'various': 9,\n",
              " 'industries': 10,\n",
              " 'autonomous': 11,\n",
              " 'vehicles': 12,\n",
              " 'virtual': 13,\n",
              " 'assistants': 14,\n",
              " 'fraud': 15,\n",
              " 'detection': 16,\n",
              " 'medical': 17,\n",
              " 'diagnostics': 18,\n",
              " 'integrated': 19,\n",
              " 'everyday': 20,\n",
              " 'technologies': 21,\n",
              " 'core': 22,\n",
              " 'involves': 23,\n",
              " 'machines': 24,\n",
              " 'perform': 25,\n",
              " 'tasks': 26,\n",
              " 'typically': 27,\n",
              " 'requiring': 28,\n",
              " 'human': 29,\n",
              " 'reasoning': 30,\n",
              " 'decision-making': 31,\n",
              " 'recent': 32,\n",
              " 'advances': 33,\n",
              " 'deep': 34,\n",
              " 'subfield': 35,\n",
              " 'machine': 36,\n",
              " 'enabled': 37,\n",
              " 'significant': 38,\n",
              " 'improvements': 39,\n",
              " 'image': 40,\n",
              " 'recognition': 41,\n",
              " 'natural': 42,\n",
              " 'language': 43,\n",
              " 'processing': 44,\n",
              " 'robotics': 45,\n",
              " 'continue': 46,\n",
              " 'evolve': 47,\n",
              " 'questions': 48,\n",
              " 'surrounding': 49,\n",
              " 'ethics': 50,\n",
              " 'bias': 51,\n",
              " 'transparency': 52,\n",
              " 'becoming': 53,\n",
              " 'increasingly': 54,\n",
              " 'important': 55,\n",
              " 'researchers': 56,\n",
              " 'developers': 57}"
            ]
          },
          "metadata": {},
          "execution_count": 57
        }
      ]
    },
    {
      "cell_type": "code",
      "source": [
        "tokenizer.word_counts"
      ],
      "metadata": {
        "colab": {
          "base_uri": "https://localhost:8080/"
        },
        "id": "qA-jFKAnGY9n",
        "outputId": "5c22dcb1-2035-4784-e8c5-fed996904d2b"
      },
      "execution_count": 58,
      "outputs": [
        {
          "output_type": "execute_result",
          "data": {
            "text/plain": [
              "OrderedDict([('artificial', 1),\n",
              "             ('intelligence', 2),\n",
              "             ('transforming', 1),\n",
              "             ('modern', 1),\n",
              "             ('world', 1),\n",
              "             ('across', 1),\n",
              "             ('various', 1),\n",
              "             ('industries', 1),\n",
              "             ('autonomous', 1),\n",
              "             ('vehicles', 1),\n",
              "             ('virtual', 1),\n",
              "             ('assistants', 1),\n",
              "             ('fraud', 1),\n",
              "             ('detection', 1),\n",
              "             ('systems', 2),\n",
              "             ('medical', 1),\n",
              "             ('diagnostics', 1),\n",
              "             ('integrated', 1),\n",
              "             ('everyday', 1),\n",
              "             ('technologies', 1),\n",
              "             ('core', 1),\n",
              "             ('involves', 1),\n",
              "             ('machines', 1),\n",
              "             ('perform', 1),\n",
              "             ('tasks', 1),\n",
              "             ('typically', 1),\n",
              "             ('requiring', 1),\n",
              "             ('human', 1),\n",
              "             ('learning', 3),\n",
              "             ('reasoning', 1),\n",
              "             ('decision-making', 1),\n",
              "             ('recent', 1),\n",
              "             ('advances', 1),\n",
              "             ('deep', 1),\n",
              "             ('subfield', 1),\n",
              "             ('machine', 1),\n",
              "             ('enabled', 1),\n",
              "             ('significant', 1),\n",
              "             ('improvements', 1),\n",
              "             ('image', 1),\n",
              "             ('recognition', 1),\n",
              "             ('natural', 1),\n",
              "             ('language', 1),\n",
              "             ('processing', 1),\n",
              "             ('robotics', 1),\n",
              "             ('continue', 1),\n",
              "             ('evolve', 1),\n",
              "             ('questions', 1),\n",
              "             ('surrounding', 1),\n",
              "             ('ethics', 1),\n",
              "             ('bias', 1),\n",
              "             ('transparency', 1),\n",
              "             ('becoming', 1),\n",
              "             ('increasingly', 1),\n",
              "             ('important', 1),\n",
              "             ('researchers', 1),\n",
              "             ('developers', 1)])"
            ]
          },
          "metadata": {},
          "execution_count": 58
        }
      ]
    },
    {
      "cell_type": "code",
      "source": [
        "integer_encoding = tokenizer.texts_to_sequences(sentences)"
      ],
      "metadata": {
        "id": "s0ubx06fGdrG"
      },
      "execution_count": 61,
      "outputs": []
    },
    {
      "cell_type": "markdown",
      "source": [
        "## 2. 패딩 작업"
      ],
      "metadata": {
        "id": "YvHyYAp4GtVz"
      }
    },
    {
      "cell_type": "code",
      "source": [
        "print(integer_encoding)"
      ],
      "metadata": {
        "colab": {
          "base_uri": "https://localhost:8080/"
        },
        "id": "X3TH98jzGiVT",
        "outputId": "f433c79d-e835-4673-fe6f-ee50f4ed5513"
      },
      "execution_count": 62,
      "outputs": [
        {
          "output_type": "stream",
          "name": "stdout",
          "text": [
            "[[4, 2, 5, 6, 7, 8, 9, 10], [11, 12, 13, 14, 15, 16, 3, 17, 18, 19, 20, 21], [22, 23, 24, 25, 26, 27, 28, 29, 2, 1, 30, 31], [32, 33, 34, 1, 35, 36, 1, 37, 38, 39, 40, 41, 42, 43, 44, 45], [3, 46, 47, 48, 49, 50, 51, 52, 53, 54, 55, 56, 57]]\n"
          ]
        }
      ]
    },
    {
      "cell_type": "code",
      "source": [
        "max_len = max(len(encode) for encode in integer_encoding)\n",
        "print(max_len)"
      ],
      "metadata": {
        "colab": {
          "base_uri": "https://localhost:8080/"
        },
        "id": "K5W9W3j4G7nL",
        "outputId": "357f7843-6141-4ecb-d351-93cbb50aa27b"
      },
      "execution_count": 64,
      "outputs": [
        {
          "output_type": "stream",
          "name": "stdout",
          "text": [
            "16\n"
          ]
        }
      ]
    },
    {
      "cell_type": "code",
      "source": [
        "for encode in integer_encoding:\n",
        "  while len(encode) < max_len:\n",
        "    encode.append(0)\n",
        "\n",
        "padding = np.array(integer_encoding)\n",
        "print(padding)"
      ],
      "metadata": {
        "colab": {
          "base_uri": "https://localhost:8080/"
        },
        "id": "JmINfijCHAbH",
        "outputId": "9dc952e7-85c5-4eb2-eba7-89e6022955d0"
      },
      "execution_count": 68,
      "outputs": [
        {
          "output_type": "stream",
          "name": "stdout",
          "text": [
            "[[ 4  2  5  6  7  8  9 10  0  0  0  0  0  0  0  0]\n",
            " [11 12 13 14 15 16  3 17 18 19 20 21  0  0  0  0]\n",
            " [22 23 24 25 26 27 28 29  2  1 30 31  0  0  0  0]\n",
            " [32 33 34  1 35 36  1 37 38 39 40 41 42 43 44 45]\n",
            " [ 3 46 47 48 49 50 51 52 53 54 55 56 57  0  0  0]]\n"
          ]
        }
      ]
    },
    {
      "cell_type": "code",
      "source": [
        "integer_encoding = tokenizer.texts_to_sequences(sentences)"
      ],
      "metadata": {
        "id": "LdwQkrrrHHIt"
      },
      "execution_count": 69,
      "outputs": []
    },
    {
      "cell_type": "code",
      "source": [
        "from tensorflow.keras.preprocessing.sequence import pad_sequences\n",
        "padding = pad_sequences(integer_encoding)\n",
        "print(padding)"
      ],
      "metadata": {
        "colab": {
          "base_uri": "https://localhost:8080/"
        },
        "id": "T46oC58qHirF",
        "outputId": "bad71b74-e0ba-461f-a341-dae1384bc98e"
      },
      "execution_count": 71,
      "outputs": [
        {
          "output_type": "stream",
          "name": "stdout",
          "text": [
            "[[ 0  0  0  0  0  0  0  0  4  2  5  6  7  8  9 10]\n",
            " [ 0  0  0  0 11 12 13 14 15 16  3 17 18 19 20 21]\n",
            " [ 0  0  0  0 22 23 24 25 26 27 28 29  2  1 30 31]\n",
            " [32 33 34  1 35 36  1 37 38 39 40 41 42 43 44 45]\n",
            " [ 0  0  0  3 46 47 48 49 50 51 52 53 54 55 56 57]]\n"
          ]
        }
      ]
    },
    {
      "cell_type": "code",
      "source": [
        "padding = pad_sequences(integer_encoding, padding='post', maxlen=16, value=-1)\n",
        "print(padding)"
      ],
      "metadata": {
        "colab": {
          "base_uri": "https://localhost:8080/"
        },
        "id": "9t6auRN7Hsu5",
        "outputId": "5ff44242-3204-4698-8ba3-4c7429b99d73"
      },
      "execution_count": 75,
      "outputs": [
        {
          "output_type": "stream",
          "name": "stdout",
          "text": [
            "[[ 4  2  5  6  7  8  9 10 -1 -1 -1 -1 -1 -1 -1 -1]\n",
            " [11 12 13 14 15 16  3 17 18 19 20 21 -1 -1 -1 -1]\n",
            " [22 23 24 25 26 27 28 29  2  1 30 31 -1 -1 -1 -1]\n",
            " [32 33 34  1 35 36  1 37 38 39 40 41 42 43 44 45]\n",
            " [ 3 46 47 48 49 50 51 52 53 54 55 56 57 -1 -1 -1]]\n"
          ]
        }
      ]
    },
    {
      "cell_type": "markdown",
      "source": [
        "## 3. TF-IDF"
      ],
      "metadata": {
        "id": "wijvgY-zJ65T"
      }
    },
    {
      "cell_type": "code",
      "source": [
        "documents = [\n",
        "    \"배가 너무 너무 아프다\",\n",
        "    \"배가 너무 고프다\",\n",
        "    \"저기 저기 배가 지나간다\",\n",
        "    \"비가 와서 다리가 아프다\"\n",
        "]"
      ],
      "metadata": {
        "id": "wgrFAid0H0xv"
      },
      "execution_count": 76,
      "outputs": []
    },
    {
      "cell_type": "code",
      "source": [
        "vocabulary = list(set(w for doc in documents for w in doc.split()))"
      ],
      "metadata": {
        "id": "UgBUkq9oKze6"
      },
      "execution_count": 77,
      "outputs": []
    },
    {
      "cell_type": "code",
      "source": [
        "print(vocabulary)"
      ],
      "metadata": {
        "colab": {
          "base_uri": "https://localhost:8080/"
        },
        "id": "96fiDXpkK4kT",
        "outputId": "f81feb58-2554-4d32-e3de-7e14f83e2687"
      },
      "execution_count": 78,
      "outputs": [
        {
          "output_type": "stream",
          "name": "stdout",
          "text": [
            "['배가', '비가', '아프다', '고프다', '와서', '너무', '지나간다', '저기', '다리가']\n"
          ]
        }
      ]
    },
    {
      "cell_type": "code",
      "source": [
        "import math"
      ],
      "metadata": {
        "id": "4rlT2W6pK6ED"
      },
      "execution_count": 79,
      "outputs": []
    },
    {
      "cell_type": "code",
      "source": [
        "num_documents = len(documents)"
      ],
      "metadata": {
        "id": "ddGgWPW5K8N-"
      },
      "execution_count": 80,
      "outputs": []
    },
    {
      "cell_type": "code",
      "source": [
        "def tf(t, d):\n",
        "  return d.count(t)"
      ],
      "metadata": {
        "id": "01dXbgrpK-pS"
      },
      "execution_count": 81,
      "outputs": []
    },
    {
      "cell_type": "code",
      "source": [
        "def idf(t):\n",
        "  df = 0\n",
        "  for doc in documents:\n",
        "    df += t in doc\n",
        "  return math.log(num_documents / (df+1))"
      ],
      "metadata": {
        "id": "o57zqqKFLCKK"
      },
      "execution_count": 83,
      "outputs": []
    },
    {
      "cell_type": "code",
      "source": [
        "def tfidf(t, d):\n",
        "  return tf(t, d) * idf(t)"
      ],
      "metadata": {
        "id": "cSRLriAsLDMU"
      },
      "execution_count": 84,
      "outputs": []
    },
    {
      "cell_type": "code",
      "source": [
        "import pandas as pd\n",
        "\n",
        "result = []\n",
        "for i in range(num_documents):\n",
        "  result.append([])\n",
        "  d = documents[i]\n",
        "  for j in range(len(vocabulary)):\n",
        "    t = vocabulary[j]\n",
        "    result[-1].append(tf(t, d))\n",
        "\n",
        "term_frequency = pd.DataFrame(result, columns=vocabulary)\n",
        "term_frequency"
      ],
      "metadata": {
        "colab": {
          "base_uri": "https://localhost:8080/",
          "height": 175
        },
        "id": "a18CAXXYLO0L",
        "outputId": "5f937df9-e07c-4bfc-e345-a35f34d6d9e9"
      },
      "execution_count": 87,
      "outputs": [
        {
          "output_type": "execute_result",
          "data": {
            "text/plain": [
              "   배가  비가  아프다  고프다  와서  너무  지나간다  저기  다리가\n",
              "0   1   0    1    0   0   2     0   0    0\n",
              "1   1   0    0    1   0   1     0   0    0\n",
              "2   1   0    0    0   0   0     1   2    0\n",
              "3   0   1    1    0   1   0     0   0    1"
            ],
            "text/html": [
              "\n",
              "  <div id=\"df-ed8e1dec-2366-41ba-9ee1-4b0f4da0150b\" class=\"colab-df-container\">\n",
              "    <div>\n",
              "<style scoped>\n",
              "    .dataframe tbody tr th:only-of-type {\n",
              "        vertical-align: middle;\n",
              "    }\n",
              "\n",
              "    .dataframe tbody tr th {\n",
              "        vertical-align: top;\n",
              "    }\n",
              "\n",
              "    .dataframe thead th {\n",
              "        text-align: right;\n",
              "    }\n",
              "</style>\n",
              "<table border=\"1\" class=\"dataframe\">\n",
              "  <thead>\n",
              "    <tr style=\"text-align: right;\">\n",
              "      <th></th>\n",
              "      <th>배가</th>\n",
              "      <th>비가</th>\n",
              "      <th>아프다</th>\n",
              "      <th>고프다</th>\n",
              "      <th>와서</th>\n",
              "      <th>너무</th>\n",
              "      <th>지나간다</th>\n",
              "      <th>저기</th>\n",
              "      <th>다리가</th>\n",
              "    </tr>\n",
              "  </thead>\n",
              "  <tbody>\n",
              "    <tr>\n",
              "      <th>0</th>\n",
              "      <td>1</td>\n",
              "      <td>0</td>\n",
              "      <td>1</td>\n",
              "      <td>0</td>\n",
              "      <td>0</td>\n",
              "      <td>2</td>\n",
              "      <td>0</td>\n",
              "      <td>0</td>\n",
              "      <td>0</td>\n",
              "    </tr>\n",
              "    <tr>\n",
              "      <th>1</th>\n",
              "      <td>1</td>\n",
              "      <td>0</td>\n",
              "      <td>0</td>\n",
              "      <td>1</td>\n",
              "      <td>0</td>\n",
              "      <td>1</td>\n",
              "      <td>0</td>\n",
              "      <td>0</td>\n",
              "      <td>0</td>\n",
              "    </tr>\n",
              "    <tr>\n",
              "      <th>2</th>\n",
              "      <td>1</td>\n",
              "      <td>0</td>\n",
              "      <td>0</td>\n",
              "      <td>0</td>\n",
              "      <td>0</td>\n",
              "      <td>0</td>\n",
              "      <td>1</td>\n",
              "      <td>2</td>\n",
              "      <td>0</td>\n",
              "    </tr>\n",
              "    <tr>\n",
              "      <th>3</th>\n",
              "      <td>0</td>\n",
              "      <td>1</td>\n",
              "      <td>1</td>\n",
              "      <td>0</td>\n",
              "      <td>1</td>\n",
              "      <td>0</td>\n",
              "      <td>0</td>\n",
              "      <td>0</td>\n",
              "      <td>1</td>\n",
              "    </tr>\n",
              "  </tbody>\n",
              "</table>\n",
              "</div>\n",
              "    <div class=\"colab-df-buttons\">\n",
              "\n",
              "  <div class=\"colab-df-container\">\n",
              "    <button class=\"colab-df-convert\" onclick=\"convertToInteractive('df-ed8e1dec-2366-41ba-9ee1-4b0f4da0150b')\"\n",
              "            title=\"Convert this dataframe to an interactive table.\"\n",
              "            style=\"display:none;\">\n",
              "\n",
              "  <svg xmlns=\"http://www.w3.org/2000/svg\" height=\"24px\" viewBox=\"0 -960 960 960\">\n",
              "    <path d=\"M120-120v-720h720v720H120Zm60-500h600v-160H180v160Zm220 220h160v-160H400v160Zm0 220h160v-160H400v160ZM180-400h160v-160H180v160Zm440 0h160v-160H620v160ZM180-180h160v-160H180v160Zm440 0h160v-160H620v160Z\"/>\n",
              "  </svg>\n",
              "    </button>\n",
              "\n",
              "  <style>\n",
              "    .colab-df-container {\n",
              "      display:flex;\n",
              "      gap: 12px;\n",
              "    }\n",
              "\n",
              "    .colab-df-convert {\n",
              "      background-color: #E8F0FE;\n",
              "      border: none;\n",
              "      border-radius: 50%;\n",
              "      cursor: pointer;\n",
              "      display: none;\n",
              "      fill: #1967D2;\n",
              "      height: 32px;\n",
              "      padding: 0 0 0 0;\n",
              "      width: 32px;\n",
              "    }\n",
              "\n",
              "    .colab-df-convert:hover {\n",
              "      background-color: #E2EBFA;\n",
              "      box-shadow: 0px 1px 2px rgba(60, 64, 67, 0.3), 0px 1px 3px 1px rgba(60, 64, 67, 0.15);\n",
              "      fill: #174EA6;\n",
              "    }\n",
              "\n",
              "    .colab-df-buttons div {\n",
              "      margin-bottom: 4px;\n",
              "    }\n",
              "\n",
              "    [theme=dark] .colab-df-convert {\n",
              "      background-color: #3B4455;\n",
              "      fill: #D2E3FC;\n",
              "    }\n",
              "\n",
              "    [theme=dark] .colab-df-convert:hover {\n",
              "      background-color: #434B5C;\n",
              "      box-shadow: 0px 1px 3px 1px rgba(0, 0, 0, 0.15);\n",
              "      filter: drop-shadow(0px 1px 2px rgba(0, 0, 0, 0.3));\n",
              "      fill: #FFFFFF;\n",
              "    }\n",
              "  </style>\n",
              "\n",
              "    <script>\n",
              "      const buttonEl =\n",
              "        document.querySelector('#df-ed8e1dec-2366-41ba-9ee1-4b0f4da0150b button.colab-df-convert');\n",
              "      buttonEl.style.display =\n",
              "        google.colab.kernel.accessAllowed ? 'block' : 'none';\n",
              "\n",
              "      async function convertToInteractive(key) {\n",
              "        const element = document.querySelector('#df-ed8e1dec-2366-41ba-9ee1-4b0f4da0150b');\n",
              "        const dataTable =\n",
              "          await google.colab.kernel.invokeFunction('convertToInteractive',\n",
              "                                                    [key], {});\n",
              "        if (!dataTable) return;\n",
              "\n",
              "        const docLinkHtml = 'Like what you see? Visit the ' +\n",
              "          '<a target=\"_blank\" href=https://colab.research.google.com/notebooks/data_table.ipynb>data table notebook</a>'\n",
              "          + ' to learn more about interactive tables.';\n",
              "        element.innerHTML = '';\n",
              "        dataTable['output_type'] = 'display_data';\n",
              "        await google.colab.output.renderOutput(dataTable, element);\n",
              "        const docLink = document.createElement('div');\n",
              "        docLink.innerHTML = docLinkHtml;\n",
              "        element.appendChild(docLink);\n",
              "      }\n",
              "    </script>\n",
              "  </div>\n",
              "\n",
              "\n",
              "<div id=\"df-3773cb47-d0c4-4ef9-8561-81f9270383af\">\n",
              "  <button class=\"colab-df-quickchart\" onclick=\"quickchart('df-3773cb47-d0c4-4ef9-8561-81f9270383af')\"\n",
              "            title=\"Suggest charts\"\n",
              "            style=\"display:none;\">\n",
              "\n",
              "<svg xmlns=\"http://www.w3.org/2000/svg\" height=\"24px\"viewBox=\"0 0 24 24\"\n",
              "     width=\"24px\">\n",
              "    <g>\n",
              "        <path d=\"M19 3H5c-1.1 0-2 .9-2 2v14c0 1.1.9 2 2 2h14c1.1 0 2-.9 2-2V5c0-1.1-.9-2-2-2zM9 17H7v-7h2v7zm4 0h-2V7h2v10zm4 0h-2v-4h2v4z\"/>\n",
              "    </g>\n",
              "</svg>\n",
              "  </button>\n",
              "\n",
              "<style>\n",
              "  .colab-df-quickchart {\n",
              "      --bg-color: #E8F0FE;\n",
              "      --fill-color: #1967D2;\n",
              "      --hover-bg-color: #E2EBFA;\n",
              "      --hover-fill-color: #174EA6;\n",
              "      --disabled-fill-color: #AAA;\n",
              "      --disabled-bg-color: #DDD;\n",
              "  }\n",
              "\n",
              "  [theme=dark] .colab-df-quickchart {\n",
              "      --bg-color: #3B4455;\n",
              "      --fill-color: #D2E3FC;\n",
              "      --hover-bg-color: #434B5C;\n",
              "      --hover-fill-color: #FFFFFF;\n",
              "      --disabled-bg-color: #3B4455;\n",
              "      --disabled-fill-color: #666;\n",
              "  }\n",
              "\n",
              "  .colab-df-quickchart {\n",
              "    background-color: var(--bg-color);\n",
              "    border: none;\n",
              "    border-radius: 50%;\n",
              "    cursor: pointer;\n",
              "    display: none;\n",
              "    fill: var(--fill-color);\n",
              "    height: 32px;\n",
              "    padding: 0;\n",
              "    width: 32px;\n",
              "  }\n",
              "\n",
              "  .colab-df-quickchart:hover {\n",
              "    background-color: var(--hover-bg-color);\n",
              "    box-shadow: 0 1px 2px rgba(60, 64, 67, 0.3), 0 1px 3px 1px rgba(60, 64, 67, 0.15);\n",
              "    fill: var(--button-hover-fill-color);\n",
              "  }\n",
              "\n",
              "  .colab-df-quickchart-complete:disabled,\n",
              "  .colab-df-quickchart-complete:disabled:hover {\n",
              "    background-color: var(--disabled-bg-color);\n",
              "    fill: var(--disabled-fill-color);\n",
              "    box-shadow: none;\n",
              "  }\n",
              "\n",
              "  .colab-df-spinner {\n",
              "    border: 2px solid var(--fill-color);\n",
              "    border-color: transparent;\n",
              "    border-bottom-color: var(--fill-color);\n",
              "    animation:\n",
              "      spin 1s steps(1) infinite;\n",
              "  }\n",
              "\n",
              "  @keyframes spin {\n",
              "    0% {\n",
              "      border-color: transparent;\n",
              "      border-bottom-color: var(--fill-color);\n",
              "      border-left-color: var(--fill-color);\n",
              "    }\n",
              "    20% {\n",
              "      border-color: transparent;\n",
              "      border-left-color: var(--fill-color);\n",
              "      border-top-color: var(--fill-color);\n",
              "    }\n",
              "    30% {\n",
              "      border-color: transparent;\n",
              "      border-left-color: var(--fill-color);\n",
              "      border-top-color: var(--fill-color);\n",
              "      border-right-color: var(--fill-color);\n",
              "    }\n",
              "    40% {\n",
              "      border-color: transparent;\n",
              "      border-right-color: var(--fill-color);\n",
              "      border-top-color: var(--fill-color);\n",
              "    }\n",
              "    60% {\n",
              "      border-color: transparent;\n",
              "      border-right-color: var(--fill-color);\n",
              "    }\n",
              "    80% {\n",
              "      border-color: transparent;\n",
              "      border-right-color: var(--fill-color);\n",
              "      border-bottom-color: var(--fill-color);\n",
              "    }\n",
              "    90% {\n",
              "      border-color: transparent;\n",
              "      border-bottom-color: var(--fill-color);\n",
              "    }\n",
              "  }\n",
              "</style>\n",
              "\n",
              "  <script>\n",
              "    async function quickchart(key) {\n",
              "      const quickchartButtonEl =\n",
              "        document.querySelector('#' + key + ' button');\n",
              "      quickchartButtonEl.disabled = true;  // To prevent multiple clicks.\n",
              "      quickchartButtonEl.classList.add('colab-df-spinner');\n",
              "      try {\n",
              "        const charts = await google.colab.kernel.invokeFunction(\n",
              "            'suggestCharts', [key], {});\n",
              "      } catch (error) {\n",
              "        console.error('Error during call to suggestCharts:', error);\n",
              "      }\n",
              "      quickchartButtonEl.classList.remove('colab-df-spinner');\n",
              "      quickchartButtonEl.classList.add('colab-df-quickchart-complete');\n",
              "    }\n",
              "    (() => {\n",
              "      let quickchartButtonEl =\n",
              "        document.querySelector('#df-3773cb47-d0c4-4ef9-8561-81f9270383af button');\n",
              "      quickchartButtonEl.style.display =\n",
              "        google.colab.kernel.accessAllowed ? 'block' : 'none';\n",
              "    })();\n",
              "  </script>\n",
              "</div>\n",
              "\n",
              "  <div id=\"id_02807c85-0c57-4072-a7d5-2f56d05ba0bf\">\n",
              "    <style>\n",
              "      .colab-df-generate {\n",
              "        background-color: #E8F0FE;\n",
              "        border: none;\n",
              "        border-radius: 50%;\n",
              "        cursor: pointer;\n",
              "        display: none;\n",
              "        fill: #1967D2;\n",
              "        height: 32px;\n",
              "        padding: 0 0 0 0;\n",
              "        width: 32px;\n",
              "      }\n",
              "\n",
              "      .colab-df-generate:hover {\n",
              "        background-color: #E2EBFA;\n",
              "        box-shadow: 0px 1px 2px rgba(60, 64, 67, 0.3), 0px 1px 3px 1px rgba(60, 64, 67, 0.15);\n",
              "        fill: #174EA6;\n",
              "      }\n",
              "\n",
              "      [theme=dark] .colab-df-generate {\n",
              "        background-color: #3B4455;\n",
              "        fill: #D2E3FC;\n",
              "      }\n",
              "\n",
              "      [theme=dark] .colab-df-generate:hover {\n",
              "        background-color: #434B5C;\n",
              "        box-shadow: 0px 1px 3px 1px rgba(0, 0, 0, 0.15);\n",
              "        filter: drop-shadow(0px 1px 2px rgba(0, 0, 0, 0.3));\n",
              "        fill: #FFFFFF;\n",
              "      }\n",
              "    </style>\n",
              "    <button class=\"colab-df-generate\" onclick=\"generateWithVariable('term_frequency')\"\n",
              "            title=\"Generate code using this dataframe.\"\n",
              "            style=\"display:none;\">\n",
              "\n",
              "  <svg xmlns=\"http://www.w3.org/2000/svg\" height=\"24px\"viewBox=\"0 0 24 24\"\n",
              "       width=\"24px\">\n",
              "    <path d=\"M7,19H8.4L18.45,9,17,7.55,7,17.6ZM5,21V16.75L18.45,3.32a2,2,0,0,1,2.83,0l1.4,1.43a1.91,1.91,0,0,1,.58,1.4,1.91,1.91,0,0,1-.58,1.4L9.25,21ZM18.45,9,17,7.55Zm-12,3A5.31,5.31,0,0,0,4.9,8.1,5.31,5.31,0,0,0,1,6.5,5.31,5.31,0,0,0,4.9,4.9,5.31,5.31,0,0,0,6.5,1,5.31,5.31,0,0,0,8.1,4.9,5.31,5.31,0,0,0,12,6.5,5.46,5.46,0,0,0,6.5,12Z\"/>\n",
              "  </svg>\n",
              "    </button>\n",
              "    <script>\n",
              "      (() => {\n",
              "      const buttonEl =\n",
              "        document.querySelector('#id_02807c85-0c57-4072-a7d5-2f56d05ba0bf button.colab-df-generate');\n",
              "      buttonEl.style.display =\n",
              "        google.colab.kernel.accessAllowed ? 'block' : 'none';\n",
              "\n",
              "      buttonEl.onclick = () => {\n",
              "        google.colab.notebook.generateWithVariable('term_frequency');\n",
              "      }\n",
              "      })();\n",
              "    </script>\n",
              "  </div>\n",
              "\n",
              "    </div>\n",
              "  </div>\n"
            ],
            "application/vnd.google.colaboratory.intrinsic+json": {
              "type": "dataframe",
              "variable_name": "term_frequency",
              "summary": "{\n  \"name\": \"term_frequency\",\n  \"rows\": 4,\n  \"fields\": [\n    {\n      \"column\": \"\\ubc30\\uac00\",\n      \"properties\": {\n        \"dtype\": \"number\",\n        \"std\": 0,\n        \"min\": 0,\n        \"max\": 1,\n        \"num_unique_values\": 2,\n        \"samples\": [\n          0,\n          1\n        ],\n        \"semantic_type\": \"\",\n        \"description\": \"\"\n      }\n    },\n    {\n      \"column\": \"\\ube44\\uac00\",\n      \"properties\": {\n        \"dtype\": \"number\",\n        \"std\": 0,\n        \"min\": 0,\n        \"max\": 1,\n        \"num_unique_values\": 2,\n        \"samples\": [\n          1,\n          0\n        ],\n        \"semantic_type\": \"\",\n        \"description\": \"\"\n      }\n    },\n    {\n      \"column\": \"\\uc544\\ud504\\ub2e4\",\n      \"properties\": {\n        \"dtype\": \"number\",\n        \"std\": 0,\n        \"min\": 0,\n        \"max\": 1,\n        \"num_unique_values\": 2,\n        \"samples\": [\n          0,\n          1\n        ],\n        \"semantic_type\": \"\",\n        \"description\": \"\"\n      }\n    },\n    {\n      \"column\": \"\\uace0\\ud504\\ub2e4\",\n      \"properties\": {\n        \"dtype\": \"number\",\n        \"std\": 0,\n        \"min\": 0,\n        \"max\": 1,\n        \"num_unique_values\": 2,\n        \"samples\": [\n          1,\n          0\n        ],\n        \"semantic_type\": \"\",\n        \"description\": \"\"\n      }\n    },\n    {\n      \"column\": \"\\uc640\\uc11c\",\n      \"properties\": {\n        \"dtype\": \"number\",\n        \"std\": 0,\n        \"min\": 0,\n        \"max\": 1,\n        \"num_unique_values\": 2,\n        \"samples\": [\n          1,\n          0\n        ],\n        \"semantic_type\": \"\",\n        \"description\": \"\"\n      }\n    },\n    {\n      \"column\": \"\\ub108\\ubb34\",\n      \"properties\": {\n        \"dtype\": \"number\",\n        \"std\": 0,\n        \"min\": 0,\n        \"max\": 2,\n        \"num_unique_values\": 3,\n        \"samples\": [\n          2,\n          1\n        ],\n        \"semantic_type\": \"\",\n        \"description\": \"\"\n      }\n    },\n    {\n      \"column\": \"\\uc9c0\\ub098\\uac04\\ub2e4\",\n      \"properties\": {\n        \"dtype\": \"number\",\n        \"std\": 0,\n        \"min\": 0,\n        \"max\": 1,\n        \"num_unique_values\": 2,\n        \"samples\": [\n          1,\n          0\n        ],\n        \"semantic_type\": \"\",\n        \"description\": \"\"\n      }\n    },\n    {\n      \"column\": \"\\uc800\\uae30\",\n      \"properties\": {\n        \"dtype\": \"number\",\n        \"std\": 1,\n        \"min\": 0,\n        \"max\": 2,\n        \"num_unique_values\": 2,\n        \"samples\": [\n          2,\n          0\n        ],\n        \"semantic_type\": \"\",\n        \"description\": \"\"\n      }\n    },\n    {\n      \"column\": \"\\ub2e4\\ub9ac\\uac00\",\n      \"properties\": {\n        \"dtype\": \"number\",\n        \"std\": 0,\n        \"min\": 0,\n        \"max\": 1,\n        \"num_unique_values\": 2,\n        \"samples\": [\n          1,\n          0\n        ],\n        \"semantic_type\": \"\",\n        \"description\": \"\"\n      }\n    }\n  ]\n}"
            }
          },
          "metadata": {},
          "execution_count": 87
        }
      ]
    },
    {
      "cell_type": "code",
      "source": [
        "result = []\n",
        "for j in range(len(vocabulary)):\n",
        "  t = vocabulary[j]\n",
        "  result.append(idf(t))\n",
        "\n",
        "inverse_df = pd.DataFrame(result, index=vocabulary, columns=[\"IDF\"])\n",
        "inverse_df"
      ],
      "metadata": {
        "colab": {
          "base_uri": "https://localhost:8080/",
          "height": 332
        },
        "id": "q5hZx-sULqyB",
        "outputId": "4797872b-01ff-4ae6-d188-dada388dd8cf"
      },
      "execution_count": 88,
      "outputs": [
        {
          "output_type": "execute_result",
          "data": {
            "text/plain": [
              "           IDF\n",
              "배가    0.000000\n",
              "비가    0.693147\n",
              "아프다   0.287682\n",
              "고프다   0.693147\n",
              "와서    0.693147\n",
              "너무    0.287682\n",
              "지나간다  0.693147\n",
              "저기    0.693147\n",
              "다리가   0.693147"
            ],
            "text/html": [
              "\n",
              "  <div id=\"df-5224b64e-4bcc-44c4-9286-0b15483512f0\" class=\"colab-df-container\">\n",
              "    <div>\n",
              "<style scoped>\n",
              "    .dataframe tbody tr th:only-of-type {\n",
              "        vertical-align: middle;\n",
              "    }\n",
              "\n",
              "    .dataframe tbody tr th {\n",
              "        vertical-align: top;\n",
              "    }\n",
              "\n",
              "    .dataframe thead th {\n",
              "        text-align: right;\n",
              "    }\n",
              "</style>\n",
              "<table border=\"1\" class=\"dataframe\">\n",
              "  <thead>\n",
              "    <tr style=\"text-align: right;\">\n",
              "      <th></th>\n",
              "      <th>IDF</th>\n",
              "    </tr>\n",
              "  </thead>\n",
              "  <tbody>\n",
              "    <tr>\n",
              "      <th>배가</th>\n",
              "      <td>0.000000</td>\n",
              "    </tr>\n",
              "    <tr>\n",
              "      <th>비가</th>\n",
              "      <td>0.693147</td>\n",
              "    </tr>\n",
              "    <tr>\n",
              "      <th>아프다</th>\n",
              "      <td>0.287682</td>\n",
              "    </tr>\n",
              "    <tr>\n",
              "      <th>고프다</th>\n",
              "      <td>0.693147</td>\n",
              "    </tr>\n",
              "    <tr>\n",
              "      <th>와서</th>\n",
              "      <td>0.693147</td>\n",
              "    </tr>\n",
              "    <tr>\n",
              "      <th>너무</th>\n",
              "      <td>0.287682</td>\n",
              "    </tr>\n",
              "    <tr>\n",
              "      <th>지나간다</th>\n",
              "      <td>0.693147</td>\n",
              "    </tr>\n",
              "    <tr>\n",
              "      <th>저기</th>\n",
              "      <td>0.693147</td>\n",
              "    </tr>\n",
              "    <tr>\n",
              "      <th>다리가</th>\n",
              "      <td>0.693147</td>\n",
              "    </tr>\n",
              "  </tbody>\n",
              "</table>\n",
              "</div>\n",
              "    <div class=\"colab-df-buttons\">\n",
              "\n",
              "  <div class=\"colab-df-container\">\n",
              "    <button class=\"colab-df-convert\" onclick=\"convertToInteractive('df-5224b64e-4bcc-44c4-9286-0b15483512f0')\"\n",
              "            title=\"Convert this dataframe to an interactive table.\"\n",
              "            style=\"display:none;\">\n",
              "\n",
              "  <svg xmlns=\"http://www.w3.org/2000/svg\" height=\"24px\" viewBox=\"0 -960 960 960\">\n",
              "    <path d=\"M120-120v-720h720v720H120Zm60-500h600v-160H180v160Zm220 220h160v-160H400v160Zm0 220h160v-160H400v160ZM180-400h160v-160H180v160Zm440 0h160v-160H620v160ZM180-180h160v-160H180v160Zm440 0h160v-160H620v160Z\"/>\n",
              "  </svg>\n",
              "    </button>\n",
              "\n",
              "  <style>\n",
              "    .colab-df-container {\n",
              "      display:flex;\n",
              "      gap: 12px;\n",
              "    }\n",
              "\n",
              "    .colab-df-convert {\n",
              "      background-color: #E8F0FE;\n",
              "      border: none;\n",
              "      border-radius: 50%;\n",
              "      cursor: pointer;\n",
              "      display: none;\n",
              "      fill: #1967D2;\n",
              "      height: 32px;\n",
              "      padding: 0 0 0 0;\n",
              "      width: 32px;\n",
              "    }\n",
              "\n",
              "    .colab-df-convert:hover {\n",
              "      background-color: #E2EBFA;\n",
              "      box-shadow: 0px 1px 2px rgba(60, 64, 67, 0.3), 0px 1px 3px 1px rgba(60, 64, 67, 0.15);\n",
              "      fill: #174EA6;\n",
              "    }\n",
              "\n",
              "    .colab-df-buttons div {\n",
              "      margin-bottom: 4px;\n",
              "    }\n",
              "\n",
              "    [theme=dark] .colab-df-convert {\n",
              "      background-color: #3B4455;\n",
              "      fill: #D2E3FC;\n",
              "    }\n",
              "\n",
              "    [theme=dark] .colab-df-convert:hover {\n",
              "      background-color: #434B5C;\n",
              "      box-shadow: 0px 1px 3px 1px rgba(0, 0, 0, 0.15);\n",
              "      filter: drop-shadow(0px 1px 2px rgba(0, 0, 0, 0.3));\n",
              "      fill: #FFFFFF;\n",
              "    }\n",
              "  </style>\n",
              "\n",
              "    <script>\n",
              "      const buttonEl =\n",
              "        document.querySelector('#df-5224b64e-4bcc-44c4-9286-0b15483512f0 button.colab-df-convert');\n",
              "      buttonEl.style.display =\n",
              "        google.colab.kernel.accessAllowed ? 'block' : 'none';\n",
              "\n",
              "      async function convertToInteractive(key) {\n",
              "        const element = document.querySelector('#df-5224b64e-4bcc-44c4-9286-0b15483512f0');\n",
              "        const dataTable =\n",
              "          await google.colab.kernel.invokeFunction('convertToInteractive',\n",
              "                                                    [key], {});\n",
              "        if (!dataTable) return;\n",
              "\n",
              "        const docLinkHtml = 'Like what you see? Visit the ' +\n",
              "          '<a target=\"_blank\" href=https://colab.research.google.com/notebooks/data_table.ipynb>data table notebook</a>'\n",
              "          + ' to learn more about interactive tables.';\n",
              "        element.innerHTML = '';\n",
              "        dataTable['output_type'] = 'display_data';\n",
              "        await google.colab.output.renderOutput(dataTable, element);\n",
              "        const docLink = document.createElement('div');\n",
              "        docLink.innerHTML = docLinkHtml;\n",
              "        element.appendChild(docLink);\n",
              "      }\n",
              "    </script>\n",
              "  </div>\n",
              "\n",
              "\n",
              "<div id=\"df-0925acda-8065-40c7-997c-e0998e55330d\">\n",
              "  <button class=\"colab-df-quickchart\" onclick=\"quickchart('df-0925acda-8065-40c7-997c-e0998e55330d')\"\n",
              "            title=\"Suggest charts\"\n",
              "            style=\"display:none;\">\n",
              "\n",
              "<svg xmlns=\"http://www.w3.org/2000/svg\" height=\"24px\"viewBox=\"0 0 24 24\"\n",
              "     width=\"24px\">\n",
              "    <g>\n",
              "        <path d=\"M19 3H5c-1.1 0-2 .9-2 2v14c0 1.1.9 2 2 2h14c1.1 0 2-.9 2-2V5c0-1.1-.9-2-2-2zM9 17H7v-7h2v7zm4 0h-2V7h2v10zm4 0h-2v-4h2v4z\"/>\n",
              "    </g>\n",
              "</svg>\n",
              "  </button>\n",
              "\n",
              "<style>\n",
              "  .colab-df-quickchart {\n",
              "      --bg-color: #E8F0FE;\n",
              "      --fill-color: #1967D2;\n",
              "      --hover-bg-color: #E2EBFA;\n",
              "      --hover-fill-color: #174EA6;\n",
              "      --disabled-fill-color: #AAA;\n",
              "      --disabled-bg-color: #DDD;\n",
              "  }\n",
              "\n",
              "  [theme=dark] .colab-df-quickchart {\n",
              "      --bg-color: #3B4455;\n",
              "      --fill-color: #D2E3FC;\n",
              "      --hover-bg-color: #434B5C;\n",
              "      --hover-fill-color: #FFFFFF;\n",
              "      --disabled-bg-color: #3B4455;\n",
              "      --disabled-fill-color: #666;\n",
              "  }\n",
              "\n",
              "  .colab-df-quickchart {\n",
              "    background-color: var(--bg-color);\n",
              "    border: none;\n",
              "    border-radius: 50%;\n",
              "    cursor: pointer;\n",
              "    display: none;\n",
              "    fill: var(--fill-color);\n",
              "    height: 32px;\n",
              "    padding: 0;\n",
              "    width: 32px;\n",
              "  }\n",
              "\n",
              "  .colab-df-quickchart:hover {\n",
              "    background-color: var(--hover-bg-color);\n",
              "    box-shadow: 0 1px 2px rgba(60, 64, 67, 0.3), 0 1px 3px 1px rgba(60, 64, 67, 0.15);\n",
              "    fill: var(--button-hover-fill-color);\n",
              "  }\n",
              "\n",
              "  .colab-df-quickchart-complete:disabled,\n",
              "  .colab-df-quickchart-complete:disabled:hover {\n",
              "    background-color: var(--disabled-bg-color);\n",
              "    fill: var(--disabled-fill-color);\n",
              "    box-shadow: none;\n",
              "  }\n",
              "\n",
              "  .colab-df-spinner {\n",
              "    border: 2px solid var(--fill-color);\n",
              "    border-color: transparent;\n",
              "    border-bottom-color: var(--fill-color);\n",
              "    animation:\n",
              "      spin 1s steps(1) infinite;\n",
              "  }\n",
              "\n",
              "  @keyframes spin {\n",
              "    0% {\n",
              "      border-color: transparent;\n",
              "      border-bottom-color: var(--fill-color);\n",
              "      border-left-color: var(--fill-color);\n",
              "    }\n",
              "    20% {\n",
              "      border-color: transparent;\n",
              "      border-left-color: var(--fill-color);\n",
              "      border-top-color: var(--fill-color);\n",
              "    }\n",
              "    30% {\n",
              "      border-color: transparent;\n",
              "      border-left-color: var(--fill-color);\n",
              "      border-top-color: var(--fill-color);\n",
              "      border-right-color: var(--fill-color);\n",
              "    }\n",
              "    40% {\n",
              "      border-color: transparent;\n",
              "      border-right-color: var(--fill-color);\n",
              "      border-top-color: var(--fill-color);\n",
              "    }\n",
              "    60% {\n",
              "      border-color: transparent;\n",
              "      border-right-color: var(--fill-color);\n",
              "    }\n",
              "    80% {\n",
              "      border-color: transparent;\n",
              "      border-right-color: var(--fill-color);\n",
              "      border-bottom-color: var(--fill-color);\n",
              "    }\n",
              "    90% {\n",
              "      border-color: transparent;\n",
              "      border-bottom-color: var(--fill-color);\n",
              "    }\n",
              "  }\n",
              "</style>\n",
              "\n",
              "  <script>\n",
              "    async function quickchart(key) {\n",
              "      const quickchartButtonEl =\n",
              "        document.querySelector('#' + key + ' button');\n",
              "      quickchartButtonEl.disabled = true;  // To prevent multiple clicks.\n",
              "      quickchartButtonEl.classList.add('colab-df-spinner');\n",
              "      try {\n",
              "        const charts = await google.colab.kernel.invokeFunction(\n",
              "            'suggestCharts', [key], {});\n",
              "      } catch (error) {\n",
              "        console.error('Error during call to suggestCharts:', error);\n",
              "      }\n",
              "      quickchartButtonEl.classList.remove('colab-df-spinner');\n",
              "      quickchartButtonEl.classList.add('colab-df-quickchart-complete');\n",
              "    }\n",
              "    (() => {\n",
              "      let quickchartButtonEl =\n",
              "        document.querySelector('#df-0925acda-8065-40c7-997c-e0998e55330d button');\n",
              "      quickchartButtonEl.style.display =\n",
              "        google.colab.kernel.accessAllowed ? 'block' : 'none';\n",
              "    })();\n",
              "  </script>\n",
              "</div>\n",
              "\n",
              "  <div id=\"id_c8b744e9-710d-4f69-8f45-254ee6537a73\">\n",
              "    <style>\n",
              "      .colab-df-generate {\n",
              "        background-color: #E8F0FE;\n",
              "        border: none;\n",
              "        border-radius: 50%;\n",
              "        cursor: pointer;\n",
              "        display: none;\n",
              "        fill: #1967D2;\n",
              "        height: 32px;\n",
              "        padding: 0 0 0 0;\n",
              "        width: 32px;\n",
              "      }\n",
              "\n",
              "      .colab-df-generate:hover {\n",
              "        background-color: #E2EBFA;\n",
              "        box-shadow: 0px 1px 2px rgba(60, 64, 67, 0.3), 0px 1px 3px 1px rgba(60, 64, 67, 0.15);\n",
              "        fill: #174EA6;\n",
              "      }\n",
              "\n",
              "      [theme=dark] .colab-df-generate {\n",
              "        background-color: #3B4455;\n",
              "        fill: #D2E3FC;\n",
              "      }\n",
              "\n",
              "      [theme=dark] .colab-df-generate:hover {\n",
              "        background-color: #434B5C;\n",
              "        box-shadow: 0px 1px 3px 1px rgba(0, 0, 0, 0.15);\n",
              "        filter: drop-shadow(0px 1px 2px rgba(0, 0, 0, 0.3));\n",
              "        fill: #FFFFFF;\n",
              "      }\n",
              "    </style>\n",
              "    <button class=\"colab-df-generate\" onclick=\"generateWithVariable('inverse_df')\"\n",
              "            title=\"Generate code using this dataframe.\"\n",
              "            style=\"display:none;\">\n",
              "\n",
              "  <svg xmlns=\"http://www.w3.org/2000/svg\" height=\"24px\"viewBox=\"0 0 24 24\"\n",
              "       width=\"24px\">\n",
              "    <path d=\"M7,19H8.4L18.45,9,17,7.55,7,17.6ZM5,21V16.75L18.45,3.32a2,2,0,0,1,2.83,0l1.4,1.43a1.91,1.91,0,0,1,.58,1.4,1.91,1.91,0,0,1-.58,1.4L9.25,21ZM18.45,9,17,7.55Zm-12,3A5.31,5.31,0,0,0,4.9,8.1,5.31,5.31,0,0,0,1,6.5,5.31,5.31,0,0,0,4.9,4.9,5.31,5.31,0,0,0,6.5,1,5.31,5.31,0,0,0,8.1,4.9,5.31,5.31,0,0,0,12,6.5,5.46,5.46,0,0,0,6.5,12Z\"/>\n",
              "  </svg>\n",
              "    </button>\n",
              "    <script>\n",
              "      (() => {\n",
              "      const buttonEl =\n",
              "        document.querySelector('#id_c8b744e9-710d-4f69-8f45-254ee6537a73 button.colab-df-generate');\n",
              "      buttonEl.style.display =\n",
              "        google.colab.kernel.accessAllowed ? 'block' : 'none';\n",
              "\n",
              "      buttonEl.onclick = () => {\n",
              "        google.colab.notebook.generateWithVariable('inverse_df');\n",
              "      }\n",
              "      })();\n",
              "    </script>\n",
              "  </div>\n",
              "\n",
              "    </div>\n",
              "  </div>\n"
            ],
            "application/vnd.google.colaboratory.intrinsic+json": {
              "type": "dataframe",
              "variable_name": "inverse_df",
              "summary": "{\n  \"name\": \"inverse_df\",\n  \"rows\": 9,\n  \"fields\": [\n    {\n      \"column\": \"IDF\",\n      \"properties\": {\n        \"dtype\": \"number\",\n        \"std\": 0.2640776264200731,\n        \"min\": 0.0,\n        \"max\": 0.6931471805599453,\n        \"num_unique_values\": 3,\n        \"samples\": [\n          0.0,\n          0.6931471805599453,\n          0.28768207245178085\n        ],\n        \"semantic_type\": \"\",\n        \"description\": \"\"\n      }\n    }\n  ]\n}"
            }
          },
          "metadata": {},
          "execution_count": 88
        }
      ]
    },
    {
      "cell_type": "code",
      "source": [
        "result = []\n",
        "for i in range(num_documents):\n",
        "  result.append([])\n",
        "  d = documents[i]\n",
        "  for j in range(len(vocabulary)):\n",
        "    t = vocabulary[j]\n",
        "    result[-1].append(tfidf(t, d))\n",
        "\n",
        "tf_idf = pd.DataFrame(result, columns=vocabulary)\n",
        "tf_idf"
      ],
      "metadata": {
        "colab": {
          "base_uri": "https://localhost:8080/",
          "height": 175
        },
        "id": "xf-HYl9TMXyW",
        "outputId": "5b3de026-4d34-46f1-a6b0-756e06d0ac56"
      },
      "execution_count": 89,
      "outputs": [
        {
          "output_type": "execute_result",
          "data": {
            "text/plain": [
              "    배가        비가       아프다       고프다  ...        너무      지나간다        저기       다리가\n",
              "0  0.0  0.000000  0.287682  0.000000  ...  0.575364  0.000000  0.000000  0.000000\n",
              "1  0.0  0.000000  0.000000  0.693147  ...  0.287682  0.000000  0.000000  0.000000\n",
              "2  0.0  0.000000  0.000000  0.000000  ...  0.000000  0.693147  1.386294  0.000000\n",
              "3  0.0  0.693147  0.287682  0.000000  ...  0.000000  0.000000  0.000000  0.693147\n",
              "\n",
              "[4 rows x 9 columns]"
            ],
            "text/html": [
              "\n",
              "  <div id=\"df-b063b81b-4243-46ea-9fce-4839ff8350c8\" class=\"colab-df-container\">\n",
              "    <div>\n",
              "<style scoped>\n",
              "    .dataframe tbody tr th:only-of-type {\n",
              "        vertical-align: middle;\n",
              "    }\n",
              "\n",
              "    .dataframe tbody tr th {\n",
              "        vertical-align: top;\n",
              "    }\n",
              "\n",
              "    .dataframe thead th {\n",
              "        text-align: right;\n",
              "    }\n",
              "</style>\n",
              "<table border=\"1\" class=\"dataframe\">\n",
              "  <thead>\n",
              "    <tr style=\"text-align: right;\">\n",
              "      <th></th>\n",
              "      <th>배가</th>\n",
              "      <th>비가</th>\n",
              "      <th>아프다</th>\n",
              "      <th>고프다</th>\n",
              "      <th>와서</th>\n",
              "      <th>너무</th>\n",
              "      <th>지나간다</th>\n",
              "      <th>저기</th>\n",
              "      <th>다리가</th>\n",
              "    </tr>\n",
              "  </thead>\n",
              "  <tbody>\n",
              "    <tr>\n",
              "      <th>0</th>\n",
              "      <td>0.0</td>\n",
              "      <td>0.000000</td>\n",
              "      <td>0.287682</td>\n",
              "      <td>0.000000</td>\n",
              "      <td>0.000000</td>\n",
              "      <td>0.575364</td>\n",
              "      <td>0.000000</td>\n",
              "      <td>0.000000</td>\n",
              "      <td>0.000000</td>\n",
              "    </tr>\n",
              "    <tr>\n",
              "      <th>1</th>\n",
              "      <td>0.0</td>\n",
              "      <td>0.000000</td>\n",
              "      <td>0.000000</td>\n",
              "      <td>0.693147</td>\n",
              "      <td>0.000000</td>\n",
              "      <td>0.287682</td>\n",
              "      <td>0.000000</td>\n",
              "      <td>0.000000</td>\n",
              "      <td>0.000000</td>\n",
              "    </tr>\n",
              "    <tr>\n",
              "      <th>2</th>\n",
              "      <td>0.0</td>\n",
              "      <td>0.000000</td>\n",
              "      <td>0.000000</td>\n",
              "      <td>0.000000</td>\n",
              "      <td>0.000000</td>\n",
              "      <td>0.000000</td>\n",
              "      <td>0.693147</td>\n",
              "      <td>1.386294</td>\n",
              "      <td>0.000000</td>\n",
              "    </tr>\n",
              "    <tr>\n",
              "      <th>3</th>\n",
              "      <td>0.0</td>\n",
              "      <td>0.693147</td>\n",
              "      <td>0.287682</td>\n",
              "      <td>0.000000</td>\n",
              "      <td>0.693147</td>\n",
              "      <td>0.000000</td>\n",
              "      <td>0.000000</td>\n",
              "      <td>0.000000</td>\n",
              "      <td>0.693147</td>\n",
              "    </tr>\n",
              "  </tbody>\n",
              "</table>\n",
              "</div>\n",
              "    <div class=\"colab-df-buttons\">\n",
              "\n",
              "  <div class=\"colab-df-container\">\n",
              "    <button class=\"colab-df-convert\" onclick=\"convertToInteractive('df-b063b81b-4243-46ea-9fce-4839ff8350c8')\"\n",
              "            title=\"Convert this dataframe to an interactive table.\"\n",
              "            style=\"display:none;\">\n",
              "\n",
              "  <svg xmlns=\"http://www.w3.org/2000/svg\" height=\"24px\" viewBox=\"0 -960 960 960\">\n",
              "    <path d=\"M120-120v-720h720v720H120Zm60-500h600v-160H180v160Zm220 220h160v-160H400v160Zm0 220h160v-160H400v160ZM180-400h160v-160H180v160Zm440 0h160v-160H620v160ZM180-180h160v-160H180v160Zm440 0h160v-160H620v160Z\"/>\n",
              "  </svg>\n",
              "    </button>\n",
              "\n",
              "  <style>\n",
              "    .colab-df-container {\n",
              "      display:flex;\n",
              "      gap: 12px;\n",
              "    }\n",
              "\n",
              "    .colab-df-convert {\n",
              "      background-color: #E8F0FE;\n",
              "      border: none;\n",
              "      border-radius: 50%;\n",
              "      cursor: pointer;\n",
              "      display: none;\n",
              "      fill: #1967D2;\n",
              "      height: 32px;\n",
              "      padding: 0 0 0 0;\n",
              "      width: 32px;\n",
              "    }\n",
              "\n",
              "    .colab-df-convert:hover {\n",
              "      background-color: #E2EBFA;\n",
              "      box-shadow: 0px 1px 2px rgba(60, 64, 67, 0.3), 0px 1px 3px 1px rgba(60, 64, 67, 0.15);\n",
              "      fill: #174EA6;\n",
              "    }\n",
              "\n",
              "    .colab-df-buttons div {\n",
              "      margin-bottom: 4px;\n",
              "    }\n",
              "\n",
              "    [theme=dark] .colab-df-convert {\n",
              "      background-color: #3B4455;\n",
              "      fill: #D2E3FC;\n",
              "    }\n",
              "\n",
              "    [theme=dark] .colab-df-convert:hover {\n",
              "      background-color: #434B5C;\n",
              "      box-shadow: 0px 1px 3px 1px rgba(0, 0, 0, 0.15);\n",
              "      filter: drop-shadow(0px 1px 2px rgba(0, 0, 0, 0.3));\n",
              "      fill: #FFFFFF;\n",
              "    }\n",
              "  </style>\n",
              "\n",
              "    <script>\n",
              "      const buttonEl =\n",
              "        document.querySelector('#df-b063b81b-4243-46ea-9fce-4839ff8350c8 button.colab-df-convert');\n",
              "      buttonEl.style.display =\n",
              "        google.colab.kernel.accessAllowed ? 'block' : 'none';\n",
              "\n",
              "      async function convertToInteractive(key) {\n",
              "        const element = document.querySelector('#df-b063b81b-4243-46ea-9fce-4839ff8350c8');\n",
              "        const dataTable =\n",
              "          await google.colab.kernel.invokeFunction('convertToInteractive',\n",
              "                                                    [key], {});\n",
              "        if (!dataTable) return;\n",
              "\n",
              "        const docLinkHtml = 'Like what you see? Visit the ' +\n",
              "          '<a target=\"_blank\" href=https://colab.research.google.com/notebooks/data_table.ipynb>data table notebook</a>'\n",
              "          + ' to learn more about interactive tables.';\n",
              "        element.innerHTML = '';\n",
              "        dataTable['output_type'] = 'display_data';\n",
              "        await google.colab.output.renderOutput(dataTable, element);\n",
              "        const docLink = document.createElement('div');\n",
              "        docLink.innerHTML = docLinkHtml;\n",
              "        element.appendChild(docLink);\n",
              "      }\n",
              "    </script>\n",
              "  </div>\n",
              "\n",
              "\n",
              "<div id=\"df-92a7c068-6d32-4fd6-ad1e-4b3ea8f383d1\">\n",
              "  <button class=\"colab-df-quickchart\" onclick=\"quickchart('df-92a7c068-6d32-4fd6-ad1e-4b3ea8f383d1')\"\n",
              "            title=\"Suggest charts\"\n",
              "            style=\"display:none;\">\n",
              "\n",
              "<svg xmlns=\"http://www.w3.org/2000/svg\" height=\"24px\"viewBox=\"0 0 24 24\"\n",
              "     width=\"24px\">\n",
              "    <g>\n",
              "        <path d=\"M19 3H5c-1.1 0-2 .9-2 2v14c0 1.1.9 2 2 2h14c1.1 0 2-.9 2-2V5c0-1.1-.9-2-2-2zM9 17H7v-7h2v7zm4 0h-2V7h2v10zm4 0h-2v-4h2v4z\"/>\n",
              "    </g>\n",
              "</svg>\n",
              "  </button>\n",
              "\n",
              "<style>\n",
              "  .colab-df-quickchart {\n",
              "      --bg-color: #E8F0FE;\n",
              "      --fill-color: #1967D2;\n",
              "      --hover-bg-color: #E2EBFA;\n",
              "      --hover-fill-color: #174EA6;\n",
              "      --disabled-fill-color: #AAA;\n",
              "      --disabled-bg-color: #DDD;\n",
              "  }\n",
              "\n",
              "  [theme=dark] .colab-df-quickchart {\n",
              "      --bg-color: #3B4455;\n",
              "      --fill-color: #D2E3FC;\n",
              "      --hover-bg-color: #434B5C;\n",
              "      --hover-fill-color: #FFFFFF;\n",
              "      --disabled-bg-color: #3B4455;\n",
              "      --disabled-fill-color: #666;\n",
              "  }\n",
              "\n",
              "  .colab-df-quickchart {\n",
              "    background-color: var(--bg-color);\n",
              "    border: none;\n",
              "    border-radius: 50%;\n",
              "    cursor: pointer;\n",
              "    display: none;\n",
              "    fill: var(--fill-color);\n",
              "    height: 32px;\n",
              "    padding: 0;\n",
              "    width: 32px;\n",
              "  }\n",
              "\n",
              "  .colab-df-quickchart:hover {\n",
              "    background-color: var(--hover-bg-color);\n",
              "    box-shadow: 0 1px 2px rgba(60, 64, 67, 0.3), 0 1px 3px 1px rgba(60, 64, 67, 0.15);\n",
              "    fill: var(--button-hover-fill-color);\n",
              "  }\n",
              "\n",
              "  .colab-df-quickchart-complete:disabled,\n",
              "  .colab-df-quickchart-complete:disabled:hover {\n",
              "    background-color: var(--disabled-bg-color);\n",
              "    fill: var(--disabled-fill-color);\n",
              "    box-shadow: none;\n",
              "  }\n",
              "\n",
              "  .colab-df-spinner {\n",
              "    border: 2px solid var(--fill-color);\n",
              "    border-color: transparent;\n",
              "    border-bottom-color: var(--fill-color);\n",
              "    animation:\n",
              "      spin 1s steps(1) infinite;\n",
              "  }\n",
              "\n",
              "  @keyframes spin {\n",
              "    0% {\n",
              "      border-color: transparent;\n",
              "      border-bottom-color: var(--fill-color);\n",
              "      border-left-color: var(--fill-color);\n",
              "    }\n",
              "    20% {\n",
              "      border-color: transparent;\n",
              "      border-left-color: var(--fill-color);\n",
              "      border-top-color: var(--fill-color);\n",
              "    }\n",
              "    30% {\n",
              "      border-color: transparent;\n",
              "      border-left-color: var(--fill-color);\n",
              "      border-top-color: var(--fill-color);\n",
              "      border-right-color: var(--fill-color);\n",
              "    }\n",
              "    40% {\n",
              "      border-color: transparent;\n",
              "      border-right-color: var(--fill-color);\n",
              "      border-top-color: var(--fill-color);\n",
              "    }\n",
              "    60% {\n",
              "      border-color: transparent;\n",
              "      border-right-color: var(--fill-color);\n",
              "    }\n",
              "    80% {\n",
              "      border-color: transparent;\n",
              "      border-right-color: var(--fill-color);\n",
              "      border-bottom-color: var(--fill-color);\n",
              "    }\n",
              "    90% {\n",
              "      border-color: transparent;\n",
              "      border-bottom-color: var(--fill-color);\n",
              "    }\n",
              "  }\n",
              "</style>\n",
              "\n",
              "  <script>\n",
              "    async function quickchart(key) {\n",
              "      const quickchartButtonEl =\n",
              "        document.querySelector('#' + key + ' button');\n",
              "      quickchartButtonEl.disabled = true;  // To prevent multiple clicks.\n",
              "      quickchartButtonEl.classList.add('colab-df-spinner');\n",
              "      try {\n",
              "        const charts = await google.colab.kernel.invokeFunction(\n",
              "            'suggestCharts', [key], {});\n",
              "      } catch (error) {\n",
              "        console.error('Error during call to suggestCharts:', error);\n",
              "      }\n",
              "      quickchartButtonEl.classList.remove('colab-df-spinner');\n",
              "      quickchartButtonEl.classList.add('colab-df-quickchart-complete');\n",
              "    }\n",
              "    (() => {\n",
              "      let quickchartButtonEl =\n",
              "        document.querySelector('#df-92a7c068-6d32-4fd6-ad1e-4b3ea8f383d1 button');\n",
              "      quickchartButtonEl.style.display =\n",
              "        google.colab.kernel.accessAllowed ? 'block' : 'none';\n",
              "    })();\n",
              "  </script>\n",
              "</div>\n",
              "\n",
              "  <div id=\"id_627b7c9b-52b4-4df8-ac2b-e451395a10d1\">\n",
              "    <style>\n",
              "      .colab-df-generate {\n",
              "        background-color: #E8F0FE;\n",
              "        border: none;\n",
              "        border-radius: 50%;\n",
              "        cursor: pointer;\n",
              "        display: none;\n",
              "        fill: #1967D2;\n",
              "        height: 32px;\n",
              "        padding: 0 0 0 0;\n",
              "        width: 32px;\n",
              "      }\n",
              "\n",
              "      .colab-df-generate:hover {\n",
              "        background-color: #E2EBFA;\n",
              "        box-shadow: 0px 1px 2px rgba(60, 64, 67, 0.3), 0px 1px 3px 1px rgba(60, 64, 67, 0.15);\n",
              "        fill: #174EA6;\n",
              "      }\n",
              "\n",
              "      [theme=dark] .colab-df-generate {\n",
              "        background-color: #3B4455;\n",
              "        fill: #D2E3FC;\n",
              "      }\n",
              "\n",
              "      [theme=dark] .colab-df-generate:hover {\n",
              "        background-color: #434B5C;\n",
              "        box-shadow: 0px 1px 3px 1px rgba(0, 0, 0, 0.15);\n",
              "        filter: drop-shadow(0px 1px 2px rgba(0, 0, 0, 0.3));\n",
              "        fill: #FFFFFF;\n",
              "      }\n",
              "    </style>\n",
              "    <button class=\"colab-df-generate\" onclick=\"generateWithVariable('tf_idf')\"\n",
              "            title=\"Generate code using this dataframe.\"\n",
              "            style=\"display:none;\">\n",
              "\n",
              "  <svg xmlns=\"http://www.w3.org/2000/svg\" height=\"24px\"viewBox=\"0 0 24 24\"\n",
              "       width=\"24px\">\n",
              "    <path d=\"M7,19H8.4L18.45,9,17,7.55,7,17.6ZM5,21V16.75L18.45,3.32a2,2,0,0,1,2.83,0l1.4,1.43a1.91,1.91,0,0,1,.58,1.4,1.91,1.91,0,0,1-.58,1.4L9.25,21ZM18.45,9,17,7.55Zm-12,3A5.31,5.31,0,0,0,4.9,8.1,5.31,5.31,0,0,0,1,6.5,5.31,5.31,0,0,0,4.9,4.9,5.31,5.31,0,0,0,6.5,1,5.31,5.31,0,0,0,8.1,4.9,5.31,5.31,0,0,0,12,6.5,5.46,5.46,0,0,0,6.5,12Z\"/>\n",
              "  </svg>\n",
              "    </button>\n",
              "    <script>\n",
              "      (() => {\n",
              "      const buttonEl =\n",
              "        document.querySelector('#id_627b7c9b-52b4-4df8-ac2b-e451395a10d1 button.colab-df-generate');\n",
              "      buttonEl.style.display =\n",
              "        google.colab.kernel.accessAllowed ? 'block' : 'none';\n",
              "\n",
              "      buttonEl.onclick = () => {\n",
              "        google.colab.notebook.generateWithVariable('tf_idf');\n",
              "      }\n",
              "      })();\n",
              "    </script>\n",
              "  </div>\n",
              "\n",
              "    </div>\n",
              "  </div>\n"
            ],
            "application/vnd.google.colaboratory.intrinsic+json": {
              "type": "dataframe",
              "variable_name": "tf_idf",
              "summary": "{\n  \"name\": \"tf_idf\",\n  \"rows\": 4,\n  \"fields\": [\n    {\n      \"column\": \"\\ubc30\\uac00\",\n      \"properties\": {\n        \"dtype\": \"number\",\n        \"std\": 0.0,\n        \"min\": 0.0,\n        \"max\": 0.0,\n        \"num_unique_values\": 1,\n        \"samples\": [\n          0.0\n        ],\n        \"semantic_type\": \"\",\n        \"description\": \"\"\n      }\n    },\n    {\n      \"column\": \"\\ube44\\uac00\",\n      \"properties\": {\n        \"dtype\": \"number\",\n        \"std\": 0.34657359027997264,\n        \"min\": 0.0,\n        \"max\": 0.6931471805599453,\n        \"num_unique_values\": 2,\n        \"samples\": [\n          0.6931471805599453\n        ],\n        \"semantic_type\": \"\",\n        \"description\": \"\"\n      }\n    },\n    {\n      \"column\": \"\\uc544\\ud504\\ub2e4\",\n      \"properties\": {\n        \"dtype\": \"number\",\n        \"std\": 0.16609332197106508,\n        \"min\": 0.0,\n        \"max\": 0.28768207245178085,\n        \"num_unique_values\": 2,\n        \"samples\": [\n          0.0\n        ],\n        \"semantic_type\": \"\",\n        \"description\": \"\"\n      }\n    },\n    {\n      \"column\": \"\\uace0\\ud504\\ub2e4\",\n      \"properties\": {\n        \"dtype\": \"number\",\n        \"std\": 0.34657359027997264,\n        \"min\": 0.0,\n        \"max\": 0.6931471805599453,\n        \"num_unique_values\": 2,\n        \"samples\": [\n          0.6931471805599453\n        ],\n        \"semantic_type\": \"\",\n        \"description\": \"\"\n      }\n    },\n    {\n      \"column\": \"\\uc640\\uc11c\",\n      \"properties\": {\n        \"dtype\": \"number\",\n        \"std\": 0.34657359027997264,\n        \"min\": 0.0,\n        \"max\": 0.6931471805599453,\n        \"num_unique_values\": 2,\n        \"samples\": [\n          0.6931471805599453\n        ],\n        \"semantic_type\": \"\",\n        \"description\": \"\"\n      }\n    },\n    {\n      \"column\": \"\\ub108\\ubb34\",\n      \"properties\": {\n        \"dtype\": \"number\",\n        \"std\": 0.27543461458085783,\n        \"min\": 0.0,\n        \"max\": 0.5753641449035617,\n        \"num_unique_values\": 3,\n        \"samples\": [\n          0.5753641449035617\n        ],\n        \"semantic_type\": \"\",\n        \"description\": \"\"\n      }\n    },\n    {\n      \"column\": \"\\uc9c0\\ub098\\uac04\\ub2e4\",\n      \"properties\": {\n        \"dtype\": \"number\",\n        \"std\": 0.34657359027997264,\n        \"min\": 0.0,\n        \"max\": 0.6931471805599453,\n        \"num_unique_values\": 2,\n        \"samples\": [\n          0.6931471805599453\n        ],\n        \"semantic_type\": \"\",\n        \"description\": \"\"\n      }\n    },\n    {\n      \"column\": \"\\uc800\\uae30\",\n      \"properties\": {\n        \"dtype\": \"number\",\n        \"std\": 0.6931471805599453,\n        \"min\": 0.0,\n        \"max\": 1.3862943611198906,\n        \"num_unique_values\": 2,\n        \"samples\": [\n          1.3862943611198906\n        ],\n        \"semantic_type\": \"\",\n        \"description\": \"\"\n      }\n    },\n    {\n      \"column\": \"\\ub2e4\\ub9ac\\uac00\",\n      \"properties\": {\n        \"dtype\": \"number\",\n        \"std\": 0.34657359027997264,\n        \"min\": 0.0,\n        \"max\": 0.6931471805599453,\n        \"num_unique_values\": 2,\n        \"samples\": [\n          0.6931471805599453\n        ],\n        \"semantic_type\": \"\",\n        \"description\": \"\"\n      }\n    }\n  ]\n}"
            }
          },
          "metadata": {},
          "execution_count": 89
        }
      ]
    },
    {
      "cell_type": "code",
      "source": [],
      "metadata": {
        "id": "16YIvpiSMr0Y"
      },
      "execution_count": null,
      "outputs": []
    }
  ]
}
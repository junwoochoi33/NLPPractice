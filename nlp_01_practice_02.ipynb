{
  "nbformat": 4,
  "nbformat_minor": 0,
  "metadata": {
    "colab": {
      "provenance": [],
      "authorship_tag": "ABX9TyNFN0pdg4EXUwhMhCejQo53",
      "include_colab_link": true
    },
    "kernelspec": {
      "name": "python3",
      "display_name": "Python 3"
    },
    "language_info": {
      "name": "python"
    }
  },
  "cells": [
    {
      "cell_type": "markdown",
      "metadata": {
        "id": "view-in-github",
        "colab_type": "text"
      },
      "source": [
        "<a href=\"https://colab.research.google.com/github/junwoochoi33/NLPPractice/blob/main/nlp_01_practice_02.ipynb\" target=\"_parent\"><img src=\"https://colab.research.google.com/assets/colab-badge.svg\" alt=\"Open In Colab\"/></a>"
      ]
    },
    {
      "cell_type": "markdown",
      "source": [
        "## 1. 정수 인코딩"
      ],
      "metadata": {
        "id": "LV9T7o9qxwVA"
      }
    },
    {
      "cell_type": "code",
      "execution_count": 12,
      "metadata": {
        "id": "iREFmlBext3K"
      },
      "outputs": [],
      "source": [
        "text = \"\"\"\n",
        "Artificial intelligence (AI) is transforming the modern world across various industries.\n",
        "From autonomous vehicles and virtual assistants to fraud detection systems and medical diagnostics, AI is being integrated into everyday technologies.\n",
        "At its core, AI involves machines that can perform tasks typically requiring human intelligence, such as learning, reasoning, and decision-making.\n",
        "Recent advances in deep learning, a subfield of machine learning, have enabled significant improvements in image recognition, natural language processing, and robotics.\n",
        "As AI systems continue to evolve, questions surrounding ethics, bias, and transparency are becoming increasingly important for researchers and developers.\n",
        "\"\"\""
      ]
    },
    {
      "cell_type": "code",
      "source": [
        "text"
      ],
      "metadata": {
        "colab": {
          "base_uri": "https://localhost:8080/",
          "height": 72
        },
        "id": "gKAAeILiyWJv",
        "outputId": "6e33523c-ce49-40a0-f078-52f8a7e04d6c"
      },
      "execution_count": 13,
      "outputs": [
        {
          "output_type": "execute_result",
          "data": {
            "text/plain": [
              "'\\nArtificial intelligence (AI) is transforming the modern world across various industries. \\nFrom autonomous vehicles and virtual assistants to fraud detection systems and medical diagnostics, AI is being integrated into everyday technologies. \\nAt its core, AI involves machines that can perform tasks typically requiring human intelligence, such as learning, reasoning, and decision-making. \\nRecent advances in deep learning, a subfield of machine learning, have enabled significant improvements in image recognition, natural language processing, and robotics. \\nAs AI systems continue to evolve, questions surrounding ethics, bias, and transparency are becoming increasingly important for researchers and developers.\\n'"
            ],
            "application/vnd.google.colaboratory.intrinsic+json": {
              "type": "string"
            }
          },
          "metadata": {},
          "execution_count": 13
        }
      ]
    },
    {
      "cell_type": "code",
      "source": [
        "from nltk.tokenize import sent_tokenize"
      ],
      "metadata": {
        "id": "E26Os6IHybrH"
      },
      "execution_count": 14,
      "outputs": []
    },
    {
      "cell_type": "code",
      "source": [
        "import nltk\n",
        "nltk.download('punkt_tab')\n",
        "\n",
        "sent_text = sent_tokenize(text)\n",
        "sent_text"
      ],
      "metadata": {
        "colab": {
          "base_uri": "https://localhost:8080/"
        },
        "id": "pOmym9vAyfZn",
        "outputId": "6d702ab2-d999-489d-99ca-2f8556740b94"
      },
      "execution_count": 15,
      "outputs": [
        {
          "output_type": "stream",
          "name": "stderr",
          "text": [
            "[nltk_data] Downloading package punkt_tab to /root/nltk_data...\n",
            "[nltk_data]   Package punkt_tab is already up-to-date!\n"
          ]
        },
        {
          "output_type": "execute_result",
          "data": {
            "text/plain": [
              "['\\nArtificial intelligence (AI) is transforming the modern world across various industries.',\n",
              " 'From autonomous vehicles and virtual assistants to fraud detection systems and medical diagnostics, AI is being integrated into everyday technologies.',\n",
              " 'At its core, AI involves machines that can perform tasks typically requiring human intelligence, such as learning, reasoning, and decision-making.',\n",
              " 'Recent advances in deep learning, a subfield of machine learning, have enabled significant improvements in image recognition, natural language processing, and robotics.',\n",
              " 'As AI systems continue to evolve, questions surrounding ethics, bias, and transparency are becoming increasingly important for researchers and developers.']"
            ]
          },
          "metadata": {},
          "execution_count": 15
        }
      ]
    },
    {
      "cell_type": "code",
      "source": [
        "from nltk.tokenize import word_tokenize\n",
        "from nltk.corpus import stopwords\n",
        "import nltk\n",
        "nltk.download('stopwords')"
      ],
      "metadata": {
        "colab": {
          "base_uri": "https://localhost:8080/"
        },
        "id": "Ohtl5Qx09MhP",
        "outputId": "27281da2-dcf5-4c06-f544-674087203665"
      },
      "execution_count": 18,
      "outputs": [
        {
          "output_type": "stream",
          "name": "stderr",
          "text": [
            "[nltk_data] Downloading package stopwords to /root/nltk_data...\n",
            "[nltk_data]   Unzipping corpora/stopwords.zip.\n"
          ]
        },
        {
          "output_type": "execute_result",
          "data": {
            "text/plain": [
              "True"
            ]
          },
          "metadata": {},
          "execution_count": 18
        }
      ]
    },
    {
      "cell_type": "code",
      "source": [
        "vocabulary = {}\n",
        "sentences = []\n",
        "stop_words = stopwords.words('english')\n",
        "\n",
        "for sent in sent_text:\n",
        "  sentence = word_tokenize(sent)\n",
        "  result = []\n",
        "\n",
        "  for word in sentence:\n",
        "    word = word.lower()\n",
        "    if (word not in stop_words) and (len(word) > 2):\n",
        "      result.append(word)\n",
        "      if word not in vocabulary:\n",
        "        vocabulary[word] = 0\n",
        "      vocabulary[word] += 1\n",
        "\n",
        "  sentences.append(result)"
      ],
      "metadata": {
        "id": "7dAXX2Og9WE-"
      },
      "execution_count": 23,
      "outputs": []
    },
    {
      "cell_type": "code",
      "source": [
        "print(sentences)"
      ],
      "metadata": {
        "colab": {
          "base_uri": "https://localhost:8080/"
        },
        "id": "P8eURgmGBvH1",
        "outputId": "aef48b64-c8e3-4109-ede1-004f0f9077cb"
      },
      "execution_count": 24,
      "outputs": [
        {
          "output_type": "stream",
          "name": "stdout",
          "text": [
            "[['artificial', 'intelligence', 'transforming', 'modern', 'world', 'across', 'various', 'industries'], ['autonomous', 'vehicles', 'virtual', 'assistants', 'fraud', 'detection', 'systems', 'medical', 'diagnostics', 'integrated', 'everyday', 'technologies'], ['core', 'involves', 'machines', 'perform', 'tasks', 'typically', 'requiring', 'human', 'intelligence', 'learning', 'reasoning', 'decision-making'], ['recent', 'advances', 'deep', 'learning', 'subfield', 'machine', 'learning', 'enabled', 'significant', 'improvements', 'image', 'recognition', 'natural', 'language', 'processing', 'robotics'], ['systems', 'continue', 'evolve', 'questions', 'surrounding', 'ethics', 'bias', 'transparency', 'becoming', 'increasingly', 'important', 'researchers', 'developers']]\n"
          ]
        }
      ]
    },
    {
      "cell_type": "code",
      "source": [
        "print(vocabulary)"
      ],
      "metadata": {
        "colab": {
          "base_uri": "https://localhost:8080/"
        },
        "id": "TgvxttCPByMM",
        "outputId": "4dae62a4-41db-4a05-b2fb-da7458fb3af1"
      },
      "execution_count": 26,
      "outputs": [
        {
          "output_type": "stream",
          "name": "stdout",
          "text": [
            "{'artificial': 1, 'intelligence': 2, 'transforming': 1, 'modern': 1, 'world': 1, 'across': 1, 'various': 1, 'industries': 1, 'autonomous': 1, 'vehicles': 1, 'virtual': 1, 'assistants': 1, 'fraud': 1, 'detection': 1, 'systems': 2, 'medical': 1, 'diagnostics': 1, 'integrated': 1, 'everyday': 1, 'technologies': 1, 'core': 1, 'involves': 1, 'machines': 1, 'perform': 1, 'tasks': 1, 'typically': 1, 'requiring': 1, 'human': 1, 'learning': 3, 'reasoning': 1, 'decision-making': 1, 'recent': 1, 'advances': 1, 'deep': 1, 'subfield': 1, 'machine': 1, 'enabled': 1, 'significant': 1, 'improvements': 1, 'image': 1, 'recognition': 1, 'natural': 1, 'language': 1, 'processing': 1, 'robotics': 1, 'continue': 1, 'evolve': 1, 'questions': 1, 'surrounding': 1, 'ethics': 1, 'bias': 1, 'transparency': 1, 'becoming': 1, 'increasingly': 1, 'important': 1, 'researchers': 1, 'developers': 1}\n"
          ]
        }
      ]
    }
  ]
}